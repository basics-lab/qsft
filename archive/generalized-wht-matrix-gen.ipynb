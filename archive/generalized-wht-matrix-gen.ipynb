{
 "cells": [
  {
   "cell_type": "code",
   "execution_count": 2,
   "id": "234c622b",
   "metadata": {},
   "outputs": [],
   "source": [
    "import scipy.linalg\n",
    "import numpy as np\n",
    "import time"
   ]
  },
  {
   "cell_type": "code",
   "execution_count": 3,
   "id": "f7ae1b4d",
   "metadata": {},
   "outputs": [],
   "source": [
    "def kron_power(H, n):\n",
    "    if n == 1:\n",
    "        return H\n",
    "    else:\n",
    "        if n % 2 == 0:\n",
    "            return kron_power(scipy.linalg.kron(H, H), n/2)\n",
    "        else:\n",
    "            return scipy.linalg.kron(H, kron_power(H, n-1))\n",
    "        \n",
    "def butson_hadamard_generator(n, q):\n",
    "    H = scipy.linalg.dft(q)\n",
    "    return kron_power(H, n)"
   ]
  },
  {
   "cell_type": "code",
   "execution_count": 6,
   "id": "d98b89c9",
   "metadata": {},
   "outputs": [
    {
     "name": "stdout",
     "output_type": "stream",
     "text": [
      "73 µs ± 1.11 µs per loop (mean ± std. dev. of 7 runs, 10000 loops each)\n"
     ]
    }
   ],
   "source": [
    "n = 6\n",
    "q = 4\n",
    "%timeit butson_hadamard_generator(n, q)"
   ]
  },
  {
   "cell_type": "code",
   "execution_count": null,
   "id": "7b671b8d",
   "metadata": {},
   "outputs": [],
   "source": []
  }
 ],
 "metadata": {
  "kernelspec": {
   "display_name": "Python 3",
   "language": "python",
   "name": "python3"
  },
  "language_info": {
   "codemirror_mode": {
    "name": "ipython",
    "version": 3
   },
   "file_extension": ".py",
   "mimetype": "text/x-python",
   "name": "python",
   "nbconvert_exporter": "python",
   "pygments_lexer": "ipython3",
   "version": "3.8.8"
  }
 },
 "nbformat": 4,
 "nbformat_minor": 5
}
