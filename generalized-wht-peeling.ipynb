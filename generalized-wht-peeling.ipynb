{
 "cells": [
  {
   "cell_type": "code",
   "execution_count": 1,
   "id": "9a907df9",
   "metadata": {},
   "outputs": [],
   "source": [
    "import numpy as np"
   ]
  },
  {
   "cell_type": "code",
   "execution_count": 71,
   "id": "86bd7915",
   "metadata": {},
   "outputs": [],
   "source": [
    "def base_convert(number, base, length):\n",
    "    list_q = [0] * length\n",
    "    number_q = np.base_repr(number, base=q)\n",
    "    for idx, i in enumerate(number_q):\n",
    "        list_q[length - len(number_q) + idx] = int(i)\n",
    "    return np.array(list_q)\n",
    "\n",
    "def inner_product(x, y, base):\n",
    "    return np.mod(np.sum(x * y), q)"
   ]
  },
  {
   "cell_type": "code",
   "execution_count": 93,
   "id": "3b20e12d",
   "metadata": {},
   "outputs": [
    {
     "name": "stdout",
     "output_type": "stream",
     "text": [
      "[[0 0 0 0 0 0 0 0 0 0 0 0 0 0 0 0]\n",
      " [0 0 0 0 1 1 1 1 2 2 2 2 3 3 3 3]\n",
      " [0 0 0 0 2 2 2 2 0 0 0 0 2 2 2 2]\n",
      " [0 0 0 0 3 3 3 3 2 2 2 2 1 1 1 1]\n",
      " [0 1 2 3 0 1 2 3 0 1 2 3 0 1 2 3]\n",
      " [0 2 0 2 0 2 0 2 0 2 0 2 0 2 0 2]\n",
      " [0 3 2 1 0 3 2 1 0 3 2 1 0 3 2 1]]\n"
     ]
    }
   ],
   "source": [
    "q = 4\n",
    "fixed_chars = np.array([1,1,0,0])\n",
    "ref_index = np.array([1,2,0,0])\n",
    "n = len(ref_index)\n",
    "\n",
    "nf_chars = np.where(fixed_chars == 0)[0]\n",
    "nf_count = len(nf_chars)\n",
    "\n",
    "power_matrix = np.zeros((1 + nf_count*(q-1), q**nf_count), np.int32)\n",
    "\n",
    "for i in range(nf_count):\n",
    "    for j in range(q-1):\n",
    "        p_index = [0] * n\n",
    "        p_index[nf_chars[i]] = j + 1\n",
    "        \n",
    "        for s in range(q**nf_count):\n",
    "            s_index_short = base_convert(s, q, nf_count)\n",
    "            s_index = ref_index.copy()\n",
    "            s_index[nf_chars] = s_index_short\n",
    "            \n",
    "            power_matrix[(q-1)*i + j + 1, s] = inner_product(s_index, p_index, q)\n",
    "            \n",
    "print(power_matrix)"
   ]
  },
  {
   "cell_type": "code",
   "execution_count": 94,
   "id": "f5263324",
   "metadata": {},
   "outputs": [
    {
     "name": "stdout",
     "output_type": "stream",
     "text": [
      "      1200  1201  1202  1203  1210  1211  1212  1213  1220  1221  1222  1223  \\\n",
      "0000     0     0     0     0     0     0     0     0     0     0     0     0   \n",
      "0010     0     0     0     0     1     1     1     1     2     2     2     2   \n",
      "0020     0     0     0     0     2     2     2     2     0     0     0     0   \n",
      "0030     0     0     0     0     3     3     3     3     2     2     2     2   \n",
      "0001     0     1     2     3     0     1     2     3     0     1     2     3   \n",
      "0002     0     2     0     2     0     2     0     2     0     2     0     2   \n",
      "0003     0     3     2     1     0     3     2     1     0     3     2     1   \n",
      "\n",
      "      1230  1231  1232  1233  \n",
      "0000     0     0     0     0  \n",
      "0010     3     3     3     3  \n",
      "0020     2     2     2     2  \n",
      "0030     1     1     1     1  \n",
      "0001     0     1     2     3  \n",
      "0002     0     2     0     2  \n",
      "0003     0     3     2     1  \n"
     ]
    }
   ],
   "source": [
    "import pandas as pd\n",
    "\n",
    "rows = [''.join(str(e) for e in [0] * n)]\n",
    "\n",
    "for i in range(nf_count):\n",
    "    for j in range(q-1):\n",
    "        p_index = [0] * n\n",
    "        p_index[nf_chars[i]] = j + 1\n",
    "        rows.append(''.join(str(e) for e in p_index))\n",
    "    \n",
    "cols = []\n",
    "for s in range(q**nf_count):\n",
    "    s_index_short = base_convert(s, q, nf_count)\n",
    "    s_index = ref_index.copy()\n",
    "    s_index[nf_chars] = s_index_short\n",
    "    cols.append(''.join(str(e) for e in s_index))\n",
    "\n",
    "df = pd.DataFrame(power_matrix, columns=cols, index=rows)\n",
    "print(df)"
   ]
  },
  {
   "cell_type": "code",
   "execution_count": null,
   "id": "3f745afb",
   "metadata": {},
   "outputs": [],
   "source": []
  }
 ],
 "metadata": {
  "kernelspec": {
   "display_name": "Python 3",
   "language": "python",
   "name": "python3"
  },
  "language_info": {
   "codemirror_mode": {
    "name": "ipython",
    "version": 3
   },
   "file_extension": ".py",
   "mimetype": "text/x-python",
   "name": "python",
   "nbconvert_exporter": "python",
   "pygments_lexer": "ipython3",
   "version": "3.8.8"
  }
 },
 "nbformat": 4,
 "nbformat_minor": 5
}
