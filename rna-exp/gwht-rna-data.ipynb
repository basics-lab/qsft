{
 "cells": [
  {
   "cell_type": "code",
   "execution_count": 1,
   "id": "36a09c70",
   "metadata": {},
   "outputs": [],
   "source": [
    "import numpy as np\n",
    "import matplotlib.pyplot as plt\n",
    "\n",
    "import sys\n",
    "sys.path.append(\"../src/qspright/\")\n",
    "sys.path.append(\"src\")\n",
    "sys.path.append(\"src/rna_transform\")\n",
    "\n",
    "import rna_transform.utils as utils\n",
    "import rna_transform.rna_utils as rna_utils\n",
    "\n",
    "from qspright.utils import dec_to_qary_vec"
   ]
  },
  {
   "cell_type": "code",
   "execution_count": 2,
   "id": "e1de323d",
   "metadata": {},
   "outputs": [
    {
     "name": "stdout",
     "output_type": "stream",
     "text": [
      "n = 10, N = 10000\n"
     ]
    }
   ],
   "source": [
    "q = 4\n",
    "positions = rna_utils.RNA_POSITIONS\n",
    "\n",
    "# positions += [3,4]\n",
    "# rna_utils.RNA_POSITIONS = positions\n",
    "\n",
    "n = len(positions)\n",
    "\n",
    "print(\"n = {}, N = {}\".format(n, n ** q))"
   ]
  },
  {
   "cell_type": "markdown",
   "id": "d95fa1ca",
   "metadata": {},
   "source": [
    "### get Lasso coefficients"
   ]
  },
  {
   "cell_type": "code",
   "execution_count": 3,
   "id": "c29a30db",
   "metadata": {
    "pycharm": {
     "name": "#%%\n"
    }
   },
   "outputs": [],
   "source": [
    "# emp_beta_lasso = rna_utils.calculate_rna_lasso(save=True)"
   ]
  },
  {
   "cell_type": "code",
   "execution_count": 4,
   "id": "ef2c1bcd",
   "metadata": {
    "pycharm": {
     "name": "#%%\n"
    }
   },
   "outputs": [],
   "source": [
    "# Calculate fraction of variance explained by empirical coefficients\n",
    "# bm_fv_lasso = utils.calc_frac_var_explained(emp_beta_lasso)"
   ]
  },
  {
   "cell_type": "markdown",
   "id": "9f66f55a",
   "metadata": {},
   "source": [
    "### get GWHT coefficients"
   ]
  },
  {
   "cell_type": "code",
   "execution_count": 5,
   "id": "033e225b",
   "metadata": {
    "pycharm": {
     "name": "#%%\n"
    }
   },
   "outputs": [
    {
     "name": "stdout",
     "output_type": "stream",
     "text": [
      "Calculating free energies...\n"
     ]
    },
    {
     "name": "stderr",
     "output_type": "stream",
     "text": [
      "  1%|▏         | 13328/1048576 [00:35<46:28, 371.24it/s]\n"
     ]
    },
    {
     "ename": "KeyboardInterrupt",
     "evalue": "",
     "output_type": "error",
     "traceback": [
      "\u001b[0;31m---------------------------------------------------------------------------\u001b[0m",
      "\u001b[0;31mFileNotFoundError\u001b[0m                         Traceback (most recent call last)",
      "\u001b[0;32m~/Documents/Research Codes/generalized-wht/rna-exp/src/rna_transform/rna_utils.py\u001b[0m in \u001b[0;36mcalculate_rna_gwht\u001b[0;34m(save)\u001b[0m\n\u001b[1;32m    197\u001b[0m     \u001b[0;32mtry\u001b[0m\u001b[0;34m:\u001b[0m\u001b[0;34m\u001b[0m\u001b[0;34m\u001b[0m\u001b[0m\n\u001b[0;32m--> 198\u001b[0;31m         \u001b[0mbeta\u001b[0m \u001b[0;34m=\u001b[0m \u001b[0mnp\u001b[0m\u001b[0;34m.\u001b[0m\u001b[0mload\u001b[0m\u001b[0;34m(\u001b[0m\u001b[0;34m\"results/rna_beta_gwht.npy\"\u001b[0m\u001b[0;34m)\u001b[0m\u001b[0;34m\u001b[0m\u001b[0;34m\u001b[0m\u001b[0m\n\u001b[0m\u001b[1;32m    199\u001b[0m         \u001b[0mprint\u001b[0m\u001b[0;34m(\u001b[0m\u001b[0;34m\"Loaded saved beta array for GWHT.\"\u001b[0m\u001b[0;34m)\u001b[0m\u001b[0;34m\u001b[0m\u001b[0;34m\u001b[0m\u001b[0m\n",
      "\u001b[0;32m~/opt/anaconda3/envs/generalized-wht/lib/python3.6/site-packages/numpy/lib/npyio.py\u001b[0m in \u001b[0;36mload\u001b[0;34m(file, mmap_mode, allow_pickle, fix_imports, encoding)\u001b[0m\n\u001b[1;32m    415\u001b[0m         \u001b[0;32melse\u001b[0m\u001b[0;34m:\u001b[0m\u001b[0;34m\u001b[0m\u001b[0;34m\u001b[0m\u001b[0m\n\u001b[0;32m--> 416\u001b[0;31m             \u001b[0mfid\u001b[0m \u001b[0;34m=\u001b[0m \u001b[0mstack\u001b[0m\u001b[0;34m.\u001b[0m\u001b[0menter_context\u001b[0m\u001b[0;34m(\u001b[0m\u001b[0mopen\u001b[0m\u001b[0;34m(\u001b[0m\u001b[0mos_fspath\u001b[0m\u001b[0;34m(\u001b[0m\u001b[0mfile\u001b[0m\u001b[0;34m)\u001b[0m\u001b[0;34m,\u001b[0m \u001b[0;34m\"rb\"\u001b[0m\u001b[0;34m)\u001b[0m\u001b[0;34m)\u001b[0m\u001b[0;34m\u001b[0m\u001b[0;34m\u001b[0m\u001b[0m\n\u001b[0m\u001b[1;32m    417\u001b[0m             \u001b[0mown_fid\u001b[0m \u001b[0;34m=\u001b[0m \u001b[0;32mTrue\u001b[0m\u001b[0;34m\u001b[0m\u001b[0;34m\u001b[0m\u001b[0m\n",
      "\u001b[0;31mFileNotFoundError\u001b[0m: [Errno 2] No such file or directory: 'results/rna_beta_gwht.npy'",
      "\nDuring handling of the above exception, another exception occurred:\n",
      "\u001b[0;31mFileNotFoundError\u001b[0m                         Traceback (most recent call last)",
      "\u001b[0;32m~/Documents/Research Codes/generalized-wht/rna-exp/src/rna_transform/rna_utils.py\u001b[0m in \u001b[0;36mload_rna_data\u001b[0;34m(save, verbose)\u001b[0m\n\u001b[1;32m     62\u001b[0m     \u001b[0;32mtry\u001b[0m\u001b[0;34m:\u001b[0m\u001b[0;34m\u001b[0m\u001b[0;34m\u001b[0m\u001b[0m\n\u001b[0;32m---> 63\u001b[0;31m         \u001b[0my\u001b[0m \u001b[0;34m=\u001b[0m \u001b[0mnp\u001b[0m\u001b[0;34m.\u001b[0m\u001b[0mload\u001b[0m\u001b[0;34m(\u001b[0m\u001b[0;34m\"results/rna_data.npy\"\u001b[0m\u001b[0;34m)\u001b[0m\u001b[0;34m\u001b[0m\u001b[0;34m\u001b[0m\u001b[0m\n\u001b[0m\u001b[1;32m     64\u001b[0m         \u001b[0;32mif\u001b[0m \u001b[0mverbose\u001b[0m\u001b[0;34m:\u001b[0m\u001b[0;34m\u001b[0m\u001b[0;34m\u001b[0m\u001b[0m\n",
      "\u001b[0;32m~/opt/anaconda3/envs/generalized-wht/lib/python3.6/site-packages/numpy/lib/npyio.py\u001b[0m in \u001b[0;36mload\u001b[0;34m(file, mmap_mode, allow_pickle, fix_imports, encoding)\u001b[0m\n\u001b[1;32m    415\u001b[0m         \u001b[0;32melse\u001b[0m\u001b[0;34m:\u001b[0m\u001b[0;34m\u001b[0m\u001b[0;34m\u001b[0m\u001b[0m\n\u001b[0;32m--> 416\u001b[0;31m             \u001b[0mfid\u001b[0m \u001b[0;34m=\u001b[0m \u001b[0mstack\u001b[0m\u001b[0;34m.\u001b[0m\u001b[0menter_context\u001b[0m\u001b[0;34m(\u001b[0m\u001b[0mopen\u001b[0m\u001b[0;34m(\u001b[0m\u001b[0mos_fspath\u001b[0m\u001b[0;34m(\u001b[0m\u001b[0mfile\u001b[0m\u001b[0;34m)\u001b[0m\u001b[0;34m,\u001b[0m \u001b[0;34m\"rb\"\u001b[0m\u001b[0;34m)\u001b[0m\u001b[0;34m)\u001b[0m\u001b[0;34m\u001b[0m\u001b[0;34m\u001b[0m\u001b[0m\n\u001b[0m\u001b[1;32m    417\u001b[0m             \u001b[0mown_fid\u001b[0m \u001b[0;34m=\u001b[0m \u001b[0;32mTrue\u001b[0m\u001b[0;34m\u001b[0m\u001b[0;34m\u001b[0m\u001b[0m\n",
      "\u001b[0;31mFileNotFoundError\u001b[0m: [Errno 2] No such file or directory: 'results/rna_data.npy'",
      "\nDuring handling of the above exception, another exception occurred:\n",
      "\u001b[0;31mKeyboardInterrupt\u001b[0m                         Traceback (most recent call last)",
      "\u001b[0;32m<ipython-input-5-d52986cef6d6>\u001b[0m in \u001b[0;36m<module>\u001b[0;34m\u001b[0m\n\u001b[0;32m----> 1\u001b[0;31m \u001b[0memp_beta_gwht\u001b[0m \u001b[0;34m=\u001b[0m \u001b[0mrna_utils\u001b[0m\u001b[0;34m.\u001b[0m\u001b[0mcalculate_rna_gwht\u001b[0m\u001b[0;34m(\u001b[0m\u001b[0msave\u001b[0m\u001b[0;34m=\u001b[0m\u001b[0;32mTrue\u001b[0m\u001b[0;34m)\u001b[0m\u001b[0;34m\u001b[0m\u001b[0;34m\u001b[0m\u001b[0m\n\u001b[0m\u001b[1;32m      2\u001b[0m \u001b[0mprint\u001b[0m\u001b[0;34m(\u001b[0m\u001b[0memp_beta_gwht\u001b[0m\u001b[0;34m)\u001b[0m\u001b[0;34m\u001b[0m\u001b[0;34m\u001b[0m\u001b[0m\n",
      "\u001b[0;32m~/Documents/Research Codes/generalized-wht/rna-exp/src/rna_transform/rna_utils.py\u001b[0m in \u001b[0;36mcalculate_rna_gwht\u001b[0;34m(save)\u001b[0m\n\u001b[1;32m    201\u001b[0m     \u001b[0;32mexcept\u001b[0m \u001b[0mFileNotFoundError\u001b[0m\u001b[0;34m:\u001b[0m\u001b[0;34m\u001b[0m\u001b[0;34m\u001b[0m\u001b[0m\n\u001b[1;32m    202\u001b[0m         \u001b[0mn\u001b[0m \u001b[0;34m=\u001b[0m \u001b[0mlen\u001b[0m\u001b[0;34m(\u001b[0m\u001b[0mRNA_POSITIONS\u001b[0m\u001b[0;34m)\u001b[0m\u001b[0;34m\u001b[0m\u001b[0;34m\u001b[0m\u001b[0m\n\u001b[0;32m--> 203\u001b[0;31m         \u001b[0my\u001b[0m \u001b[0;34m=\u001b[0m \u001b[0mload_rna_data\u001b[0m\u001b[0;34m(\u001b[0m\u001b[0msave\u001b[0m\u001b[0;34m=\u001b[0m\u001b[0msave\u001b[0m\u001b[0;34m)\u001b[0m\u001b[0;34m\u001b[0m\u001b[0;34m\u001b[0m\u001b[0m\n\u001b[0m\u001b[1;32m    204\u001b[0m         \u001b[0mbeta\u001b[0m \u001b[0;34m=\u001b[0m \u001b[0mgwht\u001b[0m\u001b[0;34m(\u001b[0m\u001b[0my\u001b[0m\u001b[0;34m,\u001b[0m \u001b[0mq\u001b[0m\u001b[0;34m=\u001b[0m\u001b[0;36m4\u001b[0m\u001b[0;34m,\u001b[0m \u001b[0mn\u001b[0m\u001b[0;34m=\u001b[0m\u001b[0mn\u001b[0m\u001b[0;34m)\u001b[0m\u001b[0;34m\u001b[0m\u001b[0;34m\u001b[0m\u001b[0m\n\u001b[1;32m    205\u001b[0m         \u001b[0mprint\u001b[0m\u001b[0;34m(\u001b[0m\u001b[0;34m\"Found GWHT coefficients\"\u001b[0m\u001b[0;34m)\u001b[0m\u001b[0;34m\u001b[0m\u001b[0;34m\u001b[0m\u001b[0m\n",
      "\u001b[0;32m~/Documents/Research Codes/generalized-wht/rna-exp/src/rna_transform/rna_utils.py\u001b[0m in \u001b[0;36mload_rna_data\u001b[0;34m(save, verbose)\u001b[0m\n\u001b[1;32m     83\u001b[0m         \u001b[0;32mfor\u001b[0m \u001b[0ms\u001b[0m \u001b[0;32min\u001b[0m \u001b[0mtqdm\u001b[0m\u001b[0;34m(\u001b[0m\u001b[0mseqs\u001b[0m\u001b[0;34m)\u001b[0m\u001b[0;34m:\u001b[0m\u001b[0;34m\u001b[0m\u001b[0;34m\u001b[0m\u001b[0m\n\u001b[1;32m     84\u001b[0m             \u001b[0mfull\u001b[0m \u001b[0;34m=\u001b[0m \u001b[0minsert\u001b[0m\u001b[0;34m(\u001b[0m\u001b[0mbase_seq\u001b[0m\u001b[0;34m,\u001b[0m \u001b[0mpositions\u001b[0m\u001b[0;34m,\u001b[0m \u001b[0ms\u001b[0m\u001b[0;34m)\u001b[0m\u001b[0;34m\u001b[0m\u001b[0;34m\u001b[0m\u001b[0m\n\u001b[0;32m---> 85\u001b[0;31m             \u001b[0;34m(\u001b[0m\u001b[0mss\u001b[0m\u001b[0;34m,\u001b[0m \u001b[0mmfe\u001b[0m\u001b[0;34m)\u001b[0m \u001b[0;34m=\u001b[0m \u001b[0mRNA\u001b[0m\u001b[0;34m.\u001b[0m\u001b[0mfold\u001b[0m\u001b[0;34m(\u001b[0m\u001b[0mfull\u001b[0m\u001b[0;34m)\u001b[0m\u001b[0;34m\u001b[0m\u001b[0;34m\u001b[0m\u001b[0m\n\u001b[0m\u001b[1;32m     86\u001b[0m             \u001b[0my\u001b[0m\u001b[0;34m.\u001b[0m\u001b[0mappend\u001b[0m\u001b[0;34m(\u001b[0m\u001b[0mmfe\u001b[0m\u001b[0;34m)\u001b[0m\u001b[0;34m\u001b[0m\u001b[0;34m\u001b[0m\u001b[0m\n\u001b[1;32m     87\u001b[0m \u001b[0;34m\u001b[0m\u001b[0m\n",
      "\u001b[0;31mKeyboardInterrupt\u001b[0m: "
     ]
    }
   ],
   "source": [
    "emp_beta_gwht = rna_utils.calculate_rna_gwht(save=True)\n",
    "print(emp_beta_gwht)"
   ]
  },
  {
   "cell_type": "code",
   "execution_count": null,
   "id": "fa951177",
   "metadata": {
    "pycharm": {
     "name": "#%%\n"
    }
   },
   "outputs": [],
   "source": [
    "# Calculate fraction of variance explained by empirical coefficients\n",
    "bm_fv_gwht = utils.calc_frac_var_explained(emp_beta_gwht)"
   ]
  },
  {
   "cell_type": "markdown",
   "id": "e7c32f47",
   "metadata": {},
   "source": [
    "### get GWHT coefficients with QSPRIGHT"
   ]
  },
  {
   "cell_type": "code",
   "execution_count": null,
   "id": "d7840f9d",
   "metadata": {
    "pycharm": {
     "name": "#%%\n"
    }
   },
   "outputs": [],
   "source": [
    "num_subsample = 2\n",
    "num_random_delays = 5\n",
    "b = 4\n",
    "gwht, (n_used, n_used_unique), peeled = rna_utils.calculate_rna_qspright(save=False, report = True, num_subsample = num_subsample, num_random_delays = num_random_delays, b = b)\n",
    "emp_beta_qspright = np.reshape(gwht, -1)\n",
    "print(\"total sample ratio = \", n_used / q ** n)\n",
    "print(\"unique sample ratio = \", n_used_unique / q ** n)\n",
    "print(\"found sparsity = \", np.sum(np.abs(emp_beta_qspright) > 1e-5))\n",
    "print(\"NMSE = \", np.sum(np.abs(emp_beta_gwht - emp_beta_qspright)**2) / np.sum(np.abs(emp_beta_gwht)**2))"
   ]
  },
  {
   "cell_type": "code",
   "execution_count": null,
   "id": "7a0184bf",
   "metadata": {
    "pycharm": {
     "name": "#%%\n"
    }
   },
   "outputs": [],
   "source": [
    "# Calculate fraction of variance explained by empirical coefficients\n",
    "bm_fv_qspright = utils.calc_frac_var_explained(emp_beta_qspright)"
   ]
  },
  {
   "cell_type": "code",
   "execution_count": null,
   "id": "34e83b03",
   "metadata": {
    "pycharm": {
     "name": "#%%\n"
    },
    "scrolled": true
   },
   "outputs": [],
   "source": [
    "# plt.plot(bm_fv_lasso[:300], label = \"Fourier\")\n",
    "plt.plot(bm_fv_gwht[:600], label = \"GWHT\")\n",
    "plt.plot(bm_fv_qspright[:600], label = \"QSPRIGHT\")\n",
    "plt.legend()\n",
    "plt.show()"
   ]
  },
  {
   "cell_type": "code",
   "execution_count": null,
   "id": "87a56543",
   "metadata": {
    "scrolled": true
   },
   "outputs": [],
   "source": [
    "b_list = [4, 5, 6]\n",
    "num_subsample_list = [2, 3, 4]\n",
    "num_random_delays_list = [3, 5, 7]\n",
    "iters = 1\n",
    "\n",
    "sample_ratios = np.zeros((iters, len(b_list), len(num_subsample_list), len(num_random_delays_list)))\n",
    "unique_sample_ratios = np.zeros((iters, len(b_list), len(num_subsample_list), len(num_random_delays_list)))\n",
    "nmse = np.zeros((iters, len(b_list), len(num_subsample_list), len(num_random_delays_list)))\n",
    "\n",
    "for idx in range(iters):\n",
    "    print(idx)\n",
    "    for s, num_subsample in enumerate(num_subsample_list):\n",
    "        for d, num_random_delays in enumerate(num_random_delays_list):\n",
    "            for b_idx, b in enumerate(b_list):\n",
    "                gwht, (n_used, n_used_unique), peeled = rna_utils.calculate_rna_qspright(save=False, report = True, num_subsample = num_subsample, num_random_delays = num_random_delays, b = b)\n",
    "                emp_beta_qspright = np.reshape(gwht, -1)\n",
    "                sample_ratios[idx, b_idx, s, d] = n_used/ q ** n\n",
    "                unique_sample_ratios[idx, b_idx, s, d] = n_used_unique/ q ** n\n",
    "                nmse[idx, b_idx, s, d] = np.sum(np.abs(emp_beta_gwht - emp_beta_qspright)**2) / np.sum(np.abs(emp_beta_gwht)**2)"
   ]
  },
  {
   "cell_type": "code",
   "execution_count": null,
   "id": "877cb09d",
   "metadata": {},
   "outputs": [],
   "source": [
    "for i, b in enumerate(b_list):\n",
    "    s_values = np.mean(unique_sample_ratios[:, i], axis=0).flatten()\n",
    "    mse_values =  np.mean(nmse[:, i], axis=0).flatten()\n",
    "\n",
    "    plt.scatter(s_values, mse_values, label = \"b = {}\".format(b))\n",
    "\n",
    "plt.xlabel('Unique Sample Ratio')\n",
    "plt.ylabel('NMSE')\n",
    "plt.legend()\n",
    "plt.show()"
   ]
  },
  {
   "cell_type": "code",
   "execution_count": null,
   "id": "8ca405d9",
   "metadata": {},
   "outputs": [],
   "source": [
    "for i, b in enumerate(b_list):\n",
    "    s_values = np.mean(sample_ratios[:, i], axis=0).flatten()\n",
    "    mse_values =  np.mean(nmse[:, i], axis=0).flatten()\n",
    "\n",
    "    plt.scatter(s_values, mse_values, label = \"b = {}\".format(b))\n",
    "\n",
    "plt.xlabel('Total Sample Ratio')\n",
    "plt.ylabel('NMSE')\n",
    "plt.legend()\n",
    "plt.show()"
   ]
  },
  {
   "cell_type": "markdown",
   "id": "acbc5230",
   "metadata": {},
   "source": [
    "### compare indices with most energy"
   ]
  },
  {
   "cell_type": "code",
   "execution_count": null,
   "id": "c22bffa8",
   "metadata": {
    "pycharm": {
     "name": "#%%\n"
    }
   },
   "outputs": [],
   "source": [
    "beta_power = np.abs(emp_beta_gwht) ** 2\n",
    "for _ in range(30):\n",
    "    ind = beta_power.argmax()\n",
    "    print(beta_power[ind], np.array(dec_to_qary_vec([ind], n = n, q=q))[:, 0])\n",
    "    beta_power[ind] = 0"
   ]
  },
  {
   "cell_type": "code",
   "execution_count": null,
   "id": "1af7a3fa",
   "metadata": {},
   "outputs": [],
   "source": [
    "beta_power = np.abs(emp_beta_qspright) ** 2\n",
    "for _ in range(30):\n",
    "    ind = beta_power.argmax()\n",
    "    print(beta_power[ind], np.array(dec_to_qary_vec([ind], n = n, q=q))[:, 0])\n",
    "    beta_power[ind] = 0"
   ]
  },
  {
   "cell_type": "code",
   "execution_count": null,
   "id": "4b4aa202",
   "metadata": {},
   "outputs": [],
   "source": []
  }
 ],
 "metadata": {
  "kernelspec": {
   "display_name": "Python 3",
   "language": "python",
   "name": "python3"
  },
  "language_info": {
   "codemirror_mode": {
    "name": "ipython",
    "version": 3
   },
   "file_extension": ".py",
   "mimetype": "text/x-python",
   "name": "python",
   "nbconvert_exporter": "python",
   "pygments_lexer": "ipython3",
   "version": "3.6.13"
  }
 },
 "nbformat": 4,
 "nbformat_minor": 5
}
