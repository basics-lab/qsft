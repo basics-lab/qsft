{
 "cells": [
  {
   "cell_type": "code",
   "execution_count": 1,
   "id": "6fbf21d1",
   "metadata": {},
   "outputs": [],
   "source": [
    "import numpy as np\n",
    "import matplotlib.pyplot as plt\n",
    "\n",
    "import sys\n",
    "sys.path.append(\"../src/qspright/\")\n",
    "sys.path.append(\"src\")\n",
    "sys.path.append(\"src/rna_transform\")\n",
    "\n",
    "import rna_transform.utils as utils\n",
    "import rna_transform.rna_utils as rna_utils\n",
    "from rna_transform.rna_utils import calculate_rna_qspright\n",
    "from qspright.utils import dec_to_qary_vec\n",
    "import itertools"
   ]
  },
  {
   "cell_type": "code",
   "execution_count": 2,
   "id": "cc15cc77",
   "metadata": {},
   "outputs": [],
   "source": [
    "# import os\n",
    "# import ipyparallel as ipp\n",
    "# import time\n",
    "\n",
    "# # mycluster = ipp.Cluster(n = int(os.getenv('SLURM_CPUS_ON_NODE')))\n",
    "# # mycluster.start_cluster_sync()\n",
    "\n",
    "# # c = mycluster.connect_client_sync()\n",
    "# # c.wait_for_engines(n = int(os.getenv('SLURM_CPUS_ON_NODE')))\n",
    "# # c.ids\n",
    "\n",
    "# # dview = c[:]\n",
    "# # # Cause execution on main process to wait while tasks sent to workers finish\n",
    "# # dview.block = True   \n",
    "\n",
    "# cluster = ipp.Cluster()\n",
    "# await cluster.start_controller()\n",
    "# engine_set_id = await cluster.start_engines(n=4)\n",
    "# rc = await cluster.connect_client()\n",
    "# rc.wait_for_engines(4)\n",
    "# rc.ids\n",
    "# dview = rc[:]"
   ]
  },
  {
   "cell_type": "code",
   "execution_count": 3,
   "id": "177580b4",
   "metadata": {},
   "outputs": [
    {
     "name": "stdout",
     "output_type": "stream",
     "text": [
      "n = 10, N = 1048576\n"
     ]
    }
   ],
   "source": [
    "q = 4\n",
    "positions = rna_utils.RNA_POSITIONS\n",
    "\n",
    "# positions = positions[:8]\n",
    "# rna_utils.RNA_POSITIONS = positions\n",
    "\n",
    "n = len(positions)\n",
    "\n",
    "print(\"n = {}, N = {}\".format(n, q ** n))"
   ]
  },
  {
   "cell_type": "markdown",
   "id": "8df19295",
   "metadata": {},
   "source": [
    "## calculate rna data"
   ]
  },
  {
   "cell_type": "code",
   "execution_count": null,
   "id": "b4fcaed5",
   "metadata": {},
   "outputs": [
    {
     "name": "stdout",
     "output_type": "stream",
     "text": [
      "Calculating free energies...\n"
     ]
    },
    {
     "name": "stderr",
     "output_type": "stream",
     "text": [
      " 40%|███▉      | 418987/1048576 [02:45<04:40, 2247.32it/s]"
     ]
    }
   ],
   "source": [
    "rna_utils.calculate_rna_data(parallel=True)"
   ]
  },
  {
   "cell_type": "markdown",
   "id": "c1950b3d",
   "metadata": {},
   "source": [
    "### get Lasso coefficients"
   ]
  },
  {
   "cell_type": "code",
   "execution_count": null,
   "id": "99d09cff",
   "metadata": {
    "pycharm": {
     "name": "#%%\n"
    }
   },
   "outputs": [],
   "source": [
    "# emp_beta_lasso = rna_utils.calculate_rna_lasso(save=True)"
   ]
  },
  {
   "cell_type": "code",
   "execution_count": null,
   "id": "7e188453",
   "metadata": {
    "pycharm": {
     "name": "#%%\n"
    }
   },
   "outputs": [],
   "source": [
    "# Calculate fraction of variance explained by empirical coefficients\n",
    "# bm_fv_lasso = utils.calc_frac_var_explained(emp_beta_lasso)"
   ]
  },
  {
   "cell_type": "markdown",
   "id": "330345b4",
   "metadata": {},
   "source": [
    "### get GWHT coefficients"
   ]
  },
  {
   "cell_type": "code",
   "execution_count": 5,
   "id": "1e2246ab",
   "metadata": {
    "pycharm": {
     "name": "#%%\n"
    }
   },
   "outputs": [
    {
     "name": "stdout",
     "output_type": "stream",
     "text": [
      "Found GWHT coefficients\n",
      "[ 0.00000000e+00-0.00000000e+00j  5.41488694e-02-6.32691955e-01j\n",
      "  6.73477172e-01-0.00000000e+00j ...  2.15147680e-04-6.25617686e-05j\n",
      " -1.86157238e-04-1.00708858e-04j  8.69748765e-05-4.01305559e-04j]\n"
     ]
    }
   ],
   "source": [
    "emp_beta_gwht = rna_utils.calculate_rna_gwht(save=True)\n",
    "print(emp_beta_gwht)"
   ]
  },
  {
   "cell_type": "code",
   "execution_count": 6,
   "id": "dd5fc186",
   "metadata": {
    "pycharm": {
     "name": "#%%\n"
    }
   },
   "outputs": [],
   "source": [
    "# Calculate fraction of variance explained by empirical coefficients\n",
    "bm_fv_gwht = utils.calc_frac_var_explained(emp_beta_gwht)"
   ]
  },
  {
   "cell_type": "markdown",
   "id": "f7f743c9",
   "metadata": {},
   "source": [
    "### get GWHT coefficients with QSPRIGHT"
   ]
  },
  {
   "cell_type": "code",
   "execution_count": 7,
   "id": "76a9c13a",
   "metadata": {
    "pycharm": {
     "name": "#%%\n"
    }
   },
   "outputs": [
    {
     "name": "stdout",
     "output_type": "stream",
     "text": [
      "total sample ratio =  0.703125\n",
      "unique sample ratio =  0.49212646484375\n",
      "found sparsity =  111\n",
      "NMSE =  0.11469195649010176\n"
     ]
    }
   ],
   "source": [
    "num_subsample = 2\n",
    "num_random_delays = 10\n",
    "b = 4\n",
    "gwht, (n_used, n_used_unique), peeled = rna_utils.calculate_rna_qspright(save=False, report = True, num_subsample = num_subsample, num_random_delays = num_random_delays, b = b)\n",
    "emp_beta_qspright = np.reshape(gwht, -1)\n",
    "print(\"total sample ratio = \", n_used / q ** n)\n",
    "print(\"unique sample ratio = \", n_used_unique / q ** n)\n",
    "print(\"found sparsity = \", np.sum(np.abs(emp_beta_qspright) > 1e-5))\n",
    "print(\"NMSE = \", np.sum(np.abs(emp_beta_gwht - emp_beta_qspright)**2) / np.sum(np.abs(emp_beta_gwht)**2))"
   ]
  },
  {
   "cell_type": "code",
   "execution_count": 8,
   "id": "6d39cc13",
   "metadata": {
    "pycharm": {
     "name": "#%%\n"
    }
   },
   "outputs": [],
   "source": [
    "# Calculate fraction of variance explained by empirical coefficients\n",
    "bm_fv_qspright = utils.calc_frac_var_explained(emp_beta_qspright)"
   ]
  },
  {
   "cell_type": "code",
   "execution_count": 9,
   "id": "b9de3d39",
   "metadata": {
    "pycharm": {
     "name": "#%%\n"
    },
    "scrolled": true
   },
   "outputs": [
    {
     "data": {
      "image/png": "[encoded data removed]",
      "text/plain": [
       "<Figure size 432x288 with 1 Axes>"
      ]
     },
     "metadata": {
      "needs_background": "light"
     },
     "output_type": "display_data"
    }
   ],
   "source": [
    "# plt.plot(bm_fv_lasso[:300], label = \"Fourier\")\n",
    "plt.plot(bm_fv_gwht[:600], label = \"GWHT\")\n",
    "plt.plot(bm_fv_qspright[:600], label = \"QSPRIGHT\")\n",
    "plt.legend()\n",
    "plt.show()"
   ]
  },
  {
   "cell_type": "markdown",
   "id": "385030cd",
   "metadata": {},
   "source": [
    "### run parallelized tests"
   ]
  },
  {
   "cell_type": "code",
   "execution_count": null,
   "id": "0549bc8f",
   "metadata": {},
   "outputs": [],
   "source": [
    "iters = 10\n",
    "num_subsample_list = [2, 3, 4]\n",
    "num_random_delays_list = [3, 5, 7]\n",
    "b_list = [4, 5, 6]\n",
    "test_params_list = list(itertools.product(num_subsample_list, num_random_delays_list, b_list))\n",
    "\n",
    "def gwht_test(i):\n",
    "    param_idx = i % len(test_params_list)\n",
    "    test_params = test_params_list[param_idx]\n",
    "    num_subsample, num_random_delays, b = test_params\n",
    "    gwht, (n_used, n_used_unique), peeled = calculate_rna_qspright(save=False, report = True, num_subsample = num_subsample, num_random_delays = num_random_delays, b = b)\n",
    "    emp_beta_qspright = np.reshape(gwht, -1)\n",
    "    sample_ratio = n_used / q ** n\n",
    "    unique_sample_ratio = n_used_unique/ q ** n\n",
    "    nmse = np.sum(np.abs(emp_beta_gwht - emp_beta_qspright)**2) / np.sum(np.abs(emp_beta_gwht)**2)\n",
    "    return param_idx, sample_ratio, unique_sample_ratio, nmse"
   ]
  },
  {
   "cell_type": "code",
   "execution_count": null,
   "id": "c7164c99",
   "metadata": {},
   "outputs": [],
   "source": [
    "dview.execute('import numpy as np')\n",
    "dview.execute('import sys')\n",
    "dview.execute('sys.path.append(\"src\")')\n",
    "dview.execute('sys.path.append(\".\")')\n",
    "dview.execute('sys.path.append(\"../src/qspright\")')\n",
    "\n",
    "mydict = dict(test_params_list = test_params_list, calculate_rna_qspright = calculate_rna_qspright, gwht_test = gwht_test, q=q, n=n, emp_beta_gwht = emp_beta_gwht)\n",
    "dview.push(mydict)"
   ]
  },
  {
   "cell_type": "code",
   "execution_count": null,
   "id": "559b0f64",
   "metadata": {},
   "outputs": [],
   "source": [
    "def test_wrapper(i):\n",
    "    return gwht_test(i) "
   ]
  },
  {
   "cell_type": "code",
   "execution_count": null,
   "id": "d9846037",
   "metadata": {},
   "outputs": [],
   "source": [
    "exp_count = iters * len(test_params_list)\n",
    "\n",
    "time.time()\n",
    "# Run a parallel map, executing the wrapper function on indices 0,...,n-1\n",
    "lview = c.load_balanced_view()\n",
    "# Cause execution on main process to wait while tasks sent to workers finish\n",
    "lview.block = True \n",
    "pred = lview.map(test_wrapper, range(exp_count))   # Run calculation in parallel\n",
    "time.time()"
   ]
  },
  {
   "cell_type": "code",
   "execution_count": null,
   "id": "c9c5cd54",
   "metadata": {},
   "outputs": [],
   "source": [
    "test_params_idx_list = list(itertools.product(np.arange(len(num_subsample_list)), np.arange(len(num_random_delays_list)), np.arange(len(b_list))))\n",
    "\n",
    "sample_ratios = np.zeros((len(num_subsample_list), len(num_random_delays_list), len(b_list), iters))\n",
    "unique_sample_ratios = np.zeros((len(num_subsample_list), len(num_random_delays_list), len(b_list), iters))\n",
    "nmses = np.zeros((len(num_subsample_list), len(num_random_delays_list), len(b_list), iters))\n",
    "\n",
    "for i, exp_result in enumerate(pred):\n",
    "    iter_idx = i // len(test_params_list)\n",
    "    test_params_idx = i % len(test_params_list)\n",
    "    test_params_idx = test_params_idx_list[test_params_idx]\n",
    "    param_idx, sample_ratio, unique_sample_ratio, nmse = exp_result\n",
    "    idx = test_params_idx + (iter_idx,)\n",
    "    sample_ratios[idx] = sample_ratio\n",
    "    unique_sample_ratios[idx] = unique_sample_ratio\n",
    "    nmses[idx] = nmse"
   ]
  },
  {
   "cell_type": "code",
   "execution_count": null,
   "id": "51deba45",
   "metadata": {},
   "outputs": [],
   "source": [
    "for i, b in enumerate(b_list):\n",
    "    s_values = np.mean(unique_sample_ratios[:, :, i, :], axis=-1).flatten()\n",
    "    mse_values =  np.mean(nmses[:, :, i, :], axis=-1).flatten()\n",
    "\n",
    "    plt.scatter(s_values, mse_values, label = \"b = {}\".format(b))\n",
    "\n",
    "plt.xlabel('Unique Sample Ratio')\n",
    "plt.ylabel('NMSE')\n",
    "plt.legend()\n",
    "plt.show()"
   ]
  },
  {
   "cell_type": "code",
   "execution_count": null,
   "id": "8c3befc8",
   "metadata": {},
   "outputs": [],
   "source": [
    "for i, b in enumerate(b_list):\n",
    "    s_values = np.mean(sample_ratios[:, :, i, :], axis=-1).flatten()\n",
    "    mse_values =  np.mean(nmses[:, :, i, :], axis=-1).flatten()\n",
    "\n",
    "    plt.scatter(s_values, mse_values, label = \"b = {}\".format(b))\n",
    "\n",
    "plt.xlabel('Total Sample Ratio')\n",
    "plt.ylabel('NMSE')\n",
    "plt.legend()\n",
    "plt.show()"
   ]
  },
  {
   "cell_type": "markdown",
   "id": "b24c8c94",
   "metadata": {},
   "source": [
    "### compare indices with most energy"
   ]
  },
  {
   "cell_type": "code",
   "execution_count": null,
   "id": "e87e0752",
   "metadata": {
    "pycharm": {
     "name": "#%%\n"
    }
   },
   "outputs": [],
   "source": [
    "beta_power = np.abs(emp_beta_gwht) ** 2\n",
    "for _ in range(30):\n",
    "    ind = beta_power.argmax()\n",
    "    print(beta_power[ind], np.array(dec_to_qary_vec([ind], n = n, q=q))[:, 0])\n",
    "    beta_power[ind] = 0"
   ]
  },
  {
   "cell_type": "code",
   "execution_count": null,
   "id": "03022f03",
   "metadata": {},
   "outputs": [],
   "source": [
    "beta_power = np.abs(emp_beta_qspright) ** 2\n",
    "for _ in range(30):\n",
    "    ind = beta_power.argmax()\n",
    "    print(beta_power[ind], np.array(dec_to_qary_vec([ind], n = n, q=q))[:, 0])\n",
    "    beta_power[ind] = 0"
   ]
  },
  {
   "cell_type": "code",
   "execution_count": null,
   "id": "1f22295c",
   "metadata": {},
   "outputs": [],
   "source": []
  }
 ],
 "metadata": {
  "kernelspec": {
   "display_name": "Python 3",
   "language": "python",
   "name": "python3"
  },
  "language_info": {
   "codemirror_mode": {
    "name": "ipython",
    "version": 3
   },
   "file_extension": ".py",
   "mimetype": "text/x-python",
   "name": "python",
   "nbconvert_exporter": "python",
   "pygments_lexer": "ipython3",
   "version": "3.6.13"
  }
 },
 "nbformat": 4,
 "nbformat_minor": 5
}
