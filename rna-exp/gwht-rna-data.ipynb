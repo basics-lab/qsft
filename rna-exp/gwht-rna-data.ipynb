{
 "cells": [
  {
   "cell_type": "code",
   "execution_count": 21,
   "id": "ef9772cf",
   "metadata": {},
   "outputs": [],
   "source": [
    "import numpy as np\n",
    "import matplotlib.pyplot as plt\n",
    "\n",
    "import sys\n",
    "sys.path.append(\"src\")\n",
    "sys.path.append(\"../src\")\n",
    "\n",
    "import rna_transform.utils as utils\n",
    "import rna_transform.rna_utils as rna_utils\n",
    "\n",
    "from qspright.utils import dec_to_qary_vec"
   ]
  },
  {
   "cell_type": "code",
   "execution_count": 2,
   "id": "45e2c9fa",
   "metadata": {},
   "outputs": [
    {
     "name": "stdout",
     "output_type": "stream",
     "text": [
      "n = 8, N = 4096\n"
     ]
    }
   ],
   "source": [
    "q = 4\n",
    "positions = rna_utils.RNA_POSITIONS\n",
    "\n",
    "# positions += [3,4]\n",
    "# rna_utils.RNA_POSITIONS = positions\n",
    "\n",
    "n = len(positions)\n",
    "\n",
    "print(\"n = {}, N = {}\".format(n, n ** q))"
   ]
  },
  {
   "cell_type": "markdown",
   "id": "69376859",
   "metadata": {},
   "source": [
    "### get Lasso coefficients"
   ]
  },
  {
   "cell_type": "code",
   "execution_count": 3,
   "id": "5591cd02",
   "metadata": {
    "pycharm": {
     "name": "#%%\n"
    }
   },
   "outputs": [],
   "source": [
    "# emp_beta_lasso = rna_utils.calculate_rna_lasso(save=True)"
   ]
  },
  {
   "cell_type": "code",
   "execution_count": 4,
   "id": "a6dd9e49",
   "metadata": {
    "pycharm": {
     "name": "#%%\n"
    }
   },
   "outputs": [],
   "source": [
    "# Calculate fraction of variance explained by empirical coefficients\n",
    "# bm_fv_lasso = utils.calc_frac_var_explained(emp_beta_lasso)"
   ]
  },
  {
   "cell_type": "markdown",
   "id": "3a99954e",
   "metadata": {},
   "source": [
    "### get GWHT coefficients"
   ]
  },
  {
   "cell_type": "code",
   "execution_count": 43,
   "id": "b89be62d",
   "metadata": {
    "pycharm": {
     "name": "#%%\n"
    }
   },
   "outputs": [
    {
     "name": "stdout",
     "output_type": "stream",
     "text": [
      "Loaded saved RNA data.\n",
      "Finding GWHT coefficients\n",
      "Found GWHT coefficients\n"
     ]
    }
   ],
   "source": [
    "emp_beta_gwht = rna_utils.calculate_rna_gwht(save=True)"
   ]
  },
  {
   "cell_type": "code",
   "execution_count": 44,
   "id": "9b42b087",
   "metadata": {
    "pycharm": {
     "name": "#%%\n"
    }
   },
   "outputs": [],
   "source": [
    "# Calculate fraction of variance explained by empirical coefficients\n",
    "bm_fv_gwht = utils.calc_frac_var_explained(emp_beta_gwht)"
   ]
  },
  {
   "cell_type": "markdown",
   "id": "aa1372f2",
   "metadata": {},
   "source": [
    "### get GWHT coefficients with QSPRIGHT"
   ]
  },
  {
   "cell_type": "code",
   "execution_count": 45,
   "id": "ca845d8b",
   "metadata": {
    "pycharm": {
     "name": "#%%\n"
    }
   },
   "outputs": [
    {
     "name": "stdout",
     "output_type": "stream",
     "text": [
      "Loaded saved RNA data.\n",
      "Finding GWHT coefficients with QSPRIGHT\n",
      "b =  4\n",
      "cutoff =  51200.0000000001\n",
      "Found GWHT coefficients\n",
      "found sparsity =  135\n",
      "Ratio of Explained Power =  0.864910627265502\n"
     ]
    }
   ],
   "source": [
    "emp_beta_qspright = rna_utils.calculate_rna_qspright(save=False, noise_sd = 250)\n",
    "print(\"found sparsity = \", np.sum(np.abs(emp_beta_qspright) > 1e-5))\n",
    "print(\"Ratio of Explained Power = \", 1 - np.linalg.norm(emp_beta_gwht - emp_beta_qspright)**2/np.linalg.norm(emp_beta_gwht)**2)"
   ]
  },
  {
   "cell_type": "code",
   "execution_count": 46,
   "id": "72a94fbe",
   "metadata": {
    "pycharm": {
     "name": "#%%\n"
    }
   },
   "outputs": [],
   "source": [
    "# Calculate fraction of variance explained by empirical coefficients\n",
    "bm_fv_qspright = utils.calc_frac_var_explained(emp_beta_qspright)"
   ]
  },
  {
   "cell_type": "code",
   "execution_count": 47,
   "id": "872a463d",
   "metadata": {
    "pycharm": {
     "name": "#%%\n"
    },
    "scrolled": true
   },
   "outputs": [
    {
     "data": {
      "image/png": "[encoded data removed]",
      "text/plain": [
       "<Figure size 432x288 with 1 Axes>"
      ]
     },
     "metadata": {
      "needs_background": "light"
     },
     "output_type": "display_data"
    }
   ],
   "source": [
    "# plt.plot(bm_fv_lasso[:300], label = \"Fourier\")\n",
    "plt.plot(bm_fv_gwht[:600], label = \"GWHT\")\n",
    "plt.plot(bm_fv_qspright[:600], label = \"QSPRIGHT\")\n",
    "plt.legend()\n",
    "plt.show()"
   ]
  },
  {
   "cell_type": "markdown",
   "id": "c5d16eb2",
   "metadata": {},
   "source": [
    "### compare indices with most energy"
   ]
  },
  {
   "cell_type": "code",
   "execution_count": 50,
   "id": "92b003db",
   "metadata": {
    "pycharm": {
     "name": "#%%\n"
    }
   },
   "outputs": [
    {
     "name": "stdout",
     "output_type": "stream",
     "text": [
      "20052.771485295565 [0 0 0 0 0 2 0 0]\n",
      "13400.77811370529 [2 0 0 0 0 0 0 2]\n",
      "11352.977657894078 [0 0 0 0 0 0 1 0]\n",
      "11352.977657894078 [0 0 0 0 0 0 3 0]\n",
      "10392.68684201875 [0 0 0 2 0 0 0 0]\n",
      "7624.427416547038 [0 0 2 0 0 0 0 0]\n",
      "7386.3432714296605 [0 0 1 0 0 0 0 0]\n",
      "7386.3432714296605 [0 0 3 0 0 0 0 0]\n",
      "5540.936343287297 [0 0 0 0 0 1 0 0]\n",
      "5540.936343287297 [0 0 0 0 0 3 0 0]\n",
      "5264.666776567108 [1 0 0 0 0 0 0 1]\n",
      "5264.666776567108 [3 0 0 0 0 0 0 3]\n",
      "4697.893286874121 [0 1 0 0 0 0 0 0]\n",
      "4697.893286874121 [0 3 0 0 0 0 0 0]\n",
      "4559.090990385492 [0 0 0 0 0 0 0 1]\n",
      "4559.090990385492 [0 0 0 0 0 0 0 3]\n",
      "3476.537197663604 [2 0 0 0 0 0 0 1]\n",
      "3476.537197663604 [2 0 0 0 0 0 0 3]\n",
      "3379.6055131538865 [2 0 0 0 0 0 0 0]\n",
      "3183.403958498384 [0 1 1 0 0 0 0 0]\n",
      "3183.403958498384 [0 3 3 0 0 0 0 0]\n",
      "2885.6205769418443 [0 0 0 0 0 0 0 2]\n",
      "2160.3612646306547 [0 0 0 0 2 0 0 0]\n",
      "2021.527577272492 [0 0 1 0 0 1 0 0]\n",
      "2021.527577272492 [0 0 3 0 0 3 0 0]\n",
      "1568.3010116008911 [1 0 0 0 0 0 0 2]\n",
      "1568.3010116008911 [3 0 0 0 0 0 0 2]\n",
      "1545.8412536500161 [0 2 2 0 0 0 0 0]\n",
      "1470.3658086524647 [0 1 3 0 0 0 0 0]\n",
      "1470.3658086524647 [0 3 1 0 0 0 0 0]\n"
     ]
    }
   ],
   "source": [
    "beta_power = np.abs(emp_beta_gwht) ** 2\n",
    "for _ in range(30):\n",
    "    ind = beta_power.argmax()\n",
    "    print(beta_power[ind], np.array(dec_to_qary_vec([ind], n = n, q=q))[:, 0])\n",
    "    beta_power[ind] = 0"
   ]
  },
  {
   "cell_type": "code",
   "execution_count": 53,
   "id": "d205430b",
   "metadata": {},
   "outputs": [
    {
     "name": "stdout",
     "output_type": "stream",
     "text": [
      "20154.84902876585 [0 0 0 0 0 2 0 0]\n",
      "13317.290700470223 [2 0 0 0 0 0 0 2]\n",
      "11362.760388445531 [0 0 0 0 0 0 1 0]\n",
      "11362.760388445531 [0 0 0 0 0 0 3 0]\n",
      "10154.81621224876 [0 0 0 2 0 0 0 0]\n",
      "7746.837626471069 [0 0 2 0 0 0 0 0]\n",
      "7537.4750523137145 [0 0 1 0 0 0 0 0]\n",
      "7537.4750523137145 [0 0 3 0 0 0 0 0]\n",
      "5398.99562380179 [0 0 0 0 0 1 0 0]\n",
      "5398.99562380179 [0 0 0 0 0 3 0 0]\n",
      "5210.414804038753 [1 0 0 0 0 0 0 1]\n",
      "5210.414804038751 [3 0 0 0 0 0 0 3]\n",
      "4799.115828424447 [0 3 0 0 0 0 0 0]\n",
      "4799.115828424445 [0 1 0 0 0 0 0 0]\n",
      "4460.190826766415 [0 0 0 0 0 0 0 1]\n",
      "4460.190826766415 [0 0 0 0 0 0 0 3]\n",
      "3562.5458579139204 [2 0 0 0 0 0 0 1]\n",
      "3562.5458579139195 [2 0 0 0 0 0 0 3]\n",
      "3340.968317547651 [2 0 0 0 0 0 0 0]\n",
      "3268.5095262409145 [0 1 1 0 0 0 0 0]\n",
      "3268.5095262409136 [0 3 3 0 0 0 0 0]\n",
      "2687.9619993851447 [0 0 0 0 0 0 0 2]\n",
      "2205.3979681133446 [0 0 0 0 2 0 0 0]\n",
      "2049.279774521657 [0 0 1 0 0 1 0 0]\n",
      "2049.279774521657 [0 0 3 0 0 3 0 0]\n",
      "1673.8920759510768 [1 0 0 0 0 0 0 2]\n",
      "1673.8920759510768 [3 0 0 0 0 0 0 2]\n",
      "1597.7340876564172 [0 2 2 0 0 0 0 0]\n",
      "1322.3532263544 [0 1 3 0 0 0 0 0]\n",
      "1322.3532263543993 [0 3 1 0 0 0 0 0]\n"
     ]
    }
   ],
   "source": [
    "beta_power = np.abs(emp_beta_qspright) ** 2\n",
    "for _ in range(30):\n",
    "    ind = beta_power.argmax()\n",
    "    print(beta_power[ind], np.array(dec_to_qary_vec([ind], n = n, q=q))[:, 0])\n",
    "    beta_power[ind] = 0"
   ]
  },
  {
   "cell_type": "code",
   "execution_count": null,
   "id": "3de70821",
   "metadata": {},
   "outputs": [],
   "source": []
  }
 ],
 "metadata": {
  "kernelspec": {
   "display_name": "Python 3",
   "language": "python",
   "name": "python3"
  },
  "language_info": {
   "codemirror_mode": {
    "name": "ipython",
    "version": 3
   },
   "file_extension": ".py",
   "mimetype": "text/x-python",
   "name": "python",
   "nbconvert_exporter": "python",
   "pygments_lexer": "ipython3",
   "version": "3.6.13"
  }
 },
 "nbformat": 4,
 "nbformat_minor": 5
}
