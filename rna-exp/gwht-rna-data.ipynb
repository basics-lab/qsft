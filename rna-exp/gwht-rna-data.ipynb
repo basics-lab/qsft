{
 "cells": [
  {
   "cell_type": "code",
   "execution_count": 1,
   "id": "4dd2c544",
   "metadata": {},
   "outputs": [],
   "source": [
    "import numpy as np\n",
    "import matplotlib.pyplot as plt\n",
    "\n",
    "import sys\n",
    "sys.path.append(\"../src/qspright/\")\n",
    "sys.path.append(\"src\")\n",
    "sys.path.append(\"src/rna_transform\")\n",
    "\n",
    "import rna_transform.utils as utils\n",
    "import rna_transform.rna_utils as rna_utils\n",
    "from rna_transform.rna_utils import calculate_rna_qspright\n",
    "from qspright.utils import dec_to_qary_vec\n",
    "import itertools"
   ]
  },
  {
   "cell_type": "code",
   "execution_count": null,
   "id": "25722046",
   "metadata": {},
   "outputs": [],
   "source": [
    "# import os\n",
    "# import ipyparallel as ipp\n",
    "# import time\n",
    "\n",
    "# # mycluster = ipp.Cluster(n = int(os.getenv('SLURM_CPUS_ON_NODE')))\n",
    "# # mycluster.start_cluster_sync()\n",
    "\n",
    "# # c = mycluster.connect_client_sync()\n",
    "# # c.wait_for_engines(n = int(os.getenv('SLURM_CPUS_ON_NODE')))\n",
    "# # c.ids\n",
    "\n",
    "# # dview = c[:]\n",
    "# # # Cause execution on main process to wait while tasks sent to workers finish\n",
    "# # dview.block = True   \n",
    "\n",
    "# cluster = ipp.Cluster()\n",
    "# await cluster.start_controller()\n",
    "# engine_set_id = await cluster.start_engines(n=4)\n",
    "# rc = await cluster.connect_client()\n",
    "# rc.wait_for_engines(4)\n",
    "# rc.ids\n",
    "# dview = rc[:]"
   ]
  },
  {
   "cell_type": "code",
   "execution_count": null,
   "id": "cf69081e",
   "metadata": {},
   "outputs": [],
   "source": [
    "q = 4\n",
    "positions = rna_utils.RNA_POSITIONS\n",
    "\n",
    "# positions = positions[:8]\n",
    "# rna_utils.RNA_POSITIONS = positions\n",
    "\n",
    "n = len(positions)\n",
    "\n",
    "print(\"n = {}, N = {}\".format(n, q ** n))"
   ]
  },
  {
   "cell_type": "markdown",
   "id": "4191f160",
   "metadata": {},
   "source": [
    "## calculate RNA free energies"
   ]
  },
  {
   "cell_type": "code",
   "execution_count": null,
   "id": "674d6560",
   "metadata": {},
   "outputs": [],
   "source": [
    "rna_utils.calculate_rna_data(parallel=True)"
   ]
  },
  {
   "cell_type": "markdown",
   "id": "701b79be",
   "metadata": {},
   "source": [
    "### get Lasso coefficients"
   ]
  },
  {
   "cell_type": "code",
   "execution_count": null,
   "id": "dfe6a76a",
   "metadata": {
    "pycharm": {
     "name": "#%%\n"
    }
   },
   "outputs": [],
   "source": [
    "# emp_beta_lasso = rna_utils.calculate_rna_lasso(save=True)"
   ]
  },
  {
   "cell_type": "code",
   "execution_count": null,
   "id": "9c552900",
   "metadata": {
    "pycharm": {
     "name": "#%%\n"
    }
   },
   "outputs": [],
   "source": [
    "# Calculate fraction of variance explained by empirical coefficients\n",
    "# bm_fv_lasso = utils.calc_frac_var_explained(emp_beta_lasso)"
   ]
  },
  {
   "cell_type": "markdown",
   "id": "b33a3293",
   "metadata": {},
   "source": [
    "### get GWHT coefficients"
   ]
  },
  {
   "cell_type": "code",
   "execution_count": null,
   "id": "b981ed09",
   "metadata": {
    "pycharm": {
     "name": "#%%\n"
    }
   },
   "outputs": [],
   "source": [
    "emp_beta_gwht = rna_utils.calculate_rna_gwht(save=False)"
   ]
  },
  {
   "cell_type": "code",
   "execution_count": null,
   "id": "8b7de689",
   "metadata": {
    "pycharm": {
     "name": "#%%\n"
    }
   },
   "outputs": [],
   "source": [
    "# Calculate fraction of variance explained by empirical coefficients\n",
    "bm_fv_gwht = utils.calc_frac_var_explained(emp_beta_gwht)"
   ]
  },
  {
   "cell_type": "markdown",
   "id": "bcaab01f",
   "metadata": {},
   "source": [
    "### get GWHT coefficients with QSPRIGHT"
   ]
  },
  {
   "cell_type": "code",
   "execution_count": null,
   "id": "de29a7dd",
   "metadata": {
    "pycharm": {
     "name": "#%%\n"
    },
    "scrolled": true
   },
   "outputs": [],
   "source": [
    "num_subsample = 2\n",
    "num_random_delays = 10\n",
    "b = 6\n",
    "gwht, (n_used, n_used_unique), peeled = rna_utils.calculate_rna_qspright(save=False, report = True,  noise_sd = 100 / (q ** n), num_subsample = num_subsample, num_random_delays = num_random_delays, b = b)\n",
    "emp_beta_qspright = np.reshape(gwht, -1)\n",
    "print(\"total sample ratio = \", n_used / q ** n)\n",
    "print(\"unique sample ratio = \", n_used_unique / q ** n)\n",
    "print(\"found sparsity = \", np.sum(np.abs(emp_beta_qspright) > 1e-5))\n",
    "print(\"NMSE = \", np.sum(np.abs(emp_beta_gwht - emp_beta_qspright)**2) / np.sum(np.abs(emp_beta_gwht)**2))"
   ]
  },
  {
   "cell_type": "code",
   "execution_count": null,
   "id": "794d9cd7",
   "metadata": {
    "pycharm": {
     "name": "#%%\n"
    }
   },
   "outputs": [],
   "source": [
    "# Calculate fraction of variance explained by empirical coefficients\n",
    "bm_fv_qspright = utils.calc_frac_var_explained(emp_beta_qspright)"
   ]
  },
  {
   "cell_type": "code",
   "execution_count": null,
   "id": "482a29a1",
   "metadata": {
    "pycharm": {
     "name": "#%%\n"
    },
    "scrolled": true
   },
   "outputs": [],
   "source": [
    "# plt.plot(bm_fv_lasso[:300], label = \"Fourier\")\n",
    "plt.plot(bm_fv_gwht, label = \"GWHT\")\n",
    "plt.plot(bm_fv_qspright, label = \"QSPRIGHT\")\n",
    "plt.legend()\n",
    "plt.show()"
   ]
  },
  {
   "cell_type": "markdown",
   "id": "4ba1df98",
   "metadata": {},
   "source": [
    "### get one-hot WHT coefficients"
   ]
  },
  {
   "cell_type": "code",
   "execution_count": null,
   "id": "4215c46c",
   "metadata": {},
   "outputs": [],
   "source": [
    "beta_onehot = rna_utils.calculate_rna_onehot_wht(save=False)"
   ]
  },
  {
   "cell_type": "code",
   "execution_count": null,
   "id": "41b2bf2c",
   "metadata": {},
   "outputs": [],
   "source": [
    "# Calculate fraction of variance explained by empirical coefficients\n",
    "bm_fv_onehot = utils.calc_frac_var_explained(beta_onehot)"
   ]
  },
  {
   "cell_type": "code",
   "execution_count": null,
   "id": "643d0ca9",
   "metadata": {},
   "outputs": [],
   "source": [
    "plt.plot(bm_fv_onehot[:1200], label = \"One-hot WHT\")\n",
    "plt.legend()\n",
    "plt.show()"
   ]
  },
  {
   "cell_type": "markdown",
   "id": "4d7c4c08",
   "metadata": {},
   "source": [
    "### get WHT coefficients with one-hot SPRIGHT"
   ]
  },
  {
   "cell_type": "code",
   "execution_count": null,
   "id": "59e16352",
   "metadata": {},
   "outputs": [],
   "source": [
    "num_subsample = 2\n",
    "num_random_delays = 10\n",
    "b = 6\n",
    "wht, (n_used, n_used_unique), peeled = rna_utils.calculate_rna_onehot_spright(save=False, report = True,  noise_sd = 200 / (2 ** (q * n)), num_subsample = num_subsample, num_random_delays = num_random_delays, b = 12)\n",
    "beta_onehot_spright = np.reshape(wht, -1)\n",
    "\n",
    "print(\"total sample ratio = \", n_used / 2 ** (q*n))\n",
    "print(\"unique sample ratio = \", n_used_unique / 2 ** (q * n))\n",
    "print(\"found sparsity = \", np.sum(np.abs(beta_onehot_spright) > 1e-5))\n",
    "print(\"NMSE = \", np.sum(np.abs(beta_onehot - beta_onehot_spright)**2) / np.sum(np.abs(beta_onehot)**2))"
   ]
  },
  {
   "cell_type": "code",
   "execution_count": null,
   "id": "c773d051",
   "metadata": {
    "pycharm": {
     "name": "#%%\n"
    }
   },
   "outputs": [],
   "source": [
    "# Calculate fraction of variance explained\n",
    "bm_fv_onehot_spright = utils.calc_frac_var_explained(beta_onehot_spright)"
   ]
  },
  {
   "cell_type": "code",
   "execution_count": null,
   "id": "959ddaa4",
   "metadata": {
    "scrolled": true
   },
   "outputs": [],
   "source": [
    "plt.plot(bm_fv_onehot[:600], label = \"One-hot WHT\")\n",
    "plt.plot(bm_fv_onehot_spright[:600], label = \"One-hot SPRIGHT\")\n",
    "plt.legend()\n",
    "plt.show()"
   ]
  },
  {
   "cell_type": "markdown",
   "id": "1fd88671",
   "metadata": {},
   "source": [
    "### run parallelized tests"
   ]
  },
  {
   "cell_type": "code",
   "execution_count": null,
   "id": "93f3279a",
   "metadata": {},
   "outputs": [],
   "source": [
    "iters = 10\n",
    "num_subsample_list = [2, 3, 4]\n",
    "num_random_delays_list = [3, 5, 7]\n",
    "b_list = [4, 5, 6]\n",
    "test_params_list = list(itertools.product(num_subsample_list, num_random_delays_list, b_list))\n",
    "\n",
    "def gwht_test(i):\n",
    "    param_idx = i % len(test_params_list)\n",
    "    test_params = test_params_list[param_idx]\n",
    "    num_subsample, num_random_delays, b = test_params\n",
    "    gwht, (n_used, n_used_unique), peeled = calculate_rna_qspright(save=False, report = True, num_subsample = num_subsample, num_random_delays = num_random_delays, b = b)\n",
    "    emp_beta_qspright = np.reshape(gwht, -1)\n",
    "    sample_ratio = n_used / q ** n\n",
    "    unique_sample_ratio = n_used_unique/ q ** n\n",
    "    nmse = np.sum(np.abs(emp_beta_gwht - emp_beta_qspright)**2) / np.sum(np.abs(emp_beta_gwht)**2)\n",
    "    return param_idx, sample_ratio, unique_sample_ratio, nmse"
   ]
  },
  {
   "cell_type": "code",
   "execution_count": null,
   "id": "f5ae5bed",
   "metadata": {},
   "outputs": [],
   "source": [
    "dview.execute('import numpy as np')\n",
    "dview.execute('import sys')\n",
    "dview.execute('sys.path.append(\"src\")')\n",
    "dview.execute('sys.path.append(\".\")')\n",
    "dview.execute('sys.path.append(\"../src/qspright\")')\n",
    "\n",
    "mydict = dict(test_params_list = test_params_list, calculate_rna_qspright = calculate_rna_qspright, gwht_test = gwht_test, q=q, n=n, emp_beta_gwht = emp_beta_gwht)\n",
    "dview.push(mydict)"
   ]
  },
  {
   "cell_type": "code",
   "execution_count": null,
   "id": "9585a469",
   "metadata": {},
   "outputs": [],
   "source": [
    "def test_wrapper(i):\n",
    "    return gwht_test(i) "
   ]
  },
  {
   "cell_type": "code",
   "execution_count": null,
   "id": "4a38f0b9",
   "metadata": {},
   "outputs": [],
   "source": [
    "exp_count = iters * len(test_params_list)\n",
    "\n",
    "time.time()\n",
    "# Run a parallel map, executing the wrapper function on indices 0,...,n-1\n",
    "lview = c.load_balanced_view()\n",
    "# Cause execution on main process to wait while tasks sent to workers finish\n",
    "lview.block = True \n",
    "pred = lview.map(test_wrapper, range(exp_count))   # Run calculation in parallel\n",
    "time.time()"
   ]
  },
  {
   "cell_type": "code",
   "execution_count": null,
   "id": "63e84813",
   "metadata": {},
   "outputs": [],
   "source": [
    "test_params_idx_list = list(itertools.product(np.arange(len(num_subsample_list)), np.arange(len(num_random_delays_list)), np.arange(len(b_list))))\n",
    "\n",
    "sample_ratios = np.zeros((len(num_subsample_list), len(num_random_delays_list), len(b_list), iters))\n",
    "unique_sample_ratios = np.zeros((len(num_subsample_list), len(num_random_delays_list), len(b_list), iters))\n",
    "nmses = np.zeros((len(num_subsample_list), len(num_random_delays_list), len(b_list), iters))\n",
    "\n",
    "for i, exp_result in enumerate(pred):\n",
    "    iter_idx = i // len(test_params_list)\n",
    "    test_params_idx = i % len(test_params_list)\n",
    "    test_params_idx = test_params_idx_list[test_params_idx]\n",
    "    param_idx, sample_ratio, unique_sample_ratio, nmse = exp_result\n",
    "    idx = test_params_idx + (iter_idx,)\n",
    "    sample_ratios[idx] = sample_ratio\n",
    "    unique_sample_ratios[idx] = unique_sample_ratio\n",
    "    nmses[idx] = nmse"
   ]
  },
  {
   "cell_type": "code",
   "execution_count": null,
   "id": "d77c3a13",
   "metadata": {},
   "outputs": [],
   "source": [
    "for i, b in enumerate(b_list):\n",
    "    s_values = np.mean(unique_sample_ratios[:, :, i, :], axis=-1).flatten()\n",
    "    mse_values =  np.mean(nmses[:, :, i, :], axis=-1).flatten()\n",
    "\n",
    "    plt.scatter(s_values, mse_values, label = \"b = {}\".format(b))\n",
    "\n",
    "plt.xlabel('Unique Sample Ratio')\n",
    "plt.ylabel('NMSE')\n",
    "plt.legend()\n",
    "plt.show()"
   ]
  },
  {
   "cell_type": "code",
   "execution_count": null,
   "id": "69ba45fa",
   "metadata": {},
   "outputs": [],
   "source": [
    "for i, b in enumerate(b_list):\n",
    "    s_values = np.mean(sample_ratios[:, :, i, :], axis=-1).flatten()\n",
    "    mse_values =  np.mean(nmses[:, :, i, :], axis=-1).flatten()\n",
    "\n",
    "    plt.scatter(s_values, mse_values, label = \"b = {}\".format(b))\n",
    "\n",
    "plt.xlabel('Total Sample Ratio')\n",
    "plt.ylabel('NMSE')\n",
    "plt.legend()\n",
    "plt.show()"
   ]
  },
  {
   "cell_type": "markdown",
   "id": "97979196",
   "metadata": {},
   "source": [
    "### compare indices with most energy"
   ]
  },
  {
   "cell_type": "code",
   "execution_count": null,
   "id": "45cc6fc2",
   "metadata": {
    "pycharm": {
     "name": "#%%\n"
    }
   },
   "outputs": [],
   "source": [
    "beta_power = np.abs(emp_beta_gwht) ** 2\n",
    "for _ in range(30):\n",
    "    ind = beta_power.argmax()\n",
    "    print(beta_power[ind], np.array(dec_to_qary_vec([ind], n = n, q=q))[:, 0])\n",
    "    beta_power[ind] = 0"
   ]
  },
  {
   "cell_type": "code",
   "execution_count": null,
   "id": "4b2fdc18",
   "metadata": {},
   "outputs": [],
   "source": [
    "beta_power = np.abs(emp_beta_qspright) ** 2\n",
    "for _ in range(30):\n",
    "    ind = beta_power.argmax()\n",
    "    print(beta_power[ind], np.array(dec_to_qary_vec([ind], n = n, q=q))[:, 0])\n",
    "    beta_power[ind] = 0"
   ]
  },
  {
   "cell_type": "code",
   "execution_count": null,
   "id": "a19ae032",
   "metadata": {},
   "outputs": [],
   "source": []
  }
 ],
 "metadata": {
  "kernelspec": {
   "display_name": "Python 3",
   "language": "python",
   "name": "python3"
  },
  "language_info": {
   "codemirror_mode": {
    "name": "ipython",
    "version": 3
   },
   "file_extension": ".py",
   "mimetype": "text/x-python",
   "name": "python",
   "nbconvert_exporter": "python",
   "pygments_lexer": "ipython3",
   "version": "3.6.13"
  }
 },
 "nbformat": 4,
 "nbformat_minor": 5
}
