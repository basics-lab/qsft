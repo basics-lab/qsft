{
 "cells": [
  {
   "cell_type": "code",
   "execution_count": 1,
   "id": "dfe0d4c5",
   "metadata": {},
   "outputs": [],
   "source": [
    "import numpy as np\n",
    "import matplotlib.pyplot as plt\n",
    "\n",
    "import sys\n",
    "sys.path.append(\"../src/qspright/\")\n",
    "sys.path.append(\"src\")\n",
    "sys.path.append(\"src/rna_transform\")\n",
    "\n",
    "import rna_transform.utils as utils\n",
    "import rna_transform.rna_utils as rna_utils\n",
    "\n",
    "from qspright.utils import dec_to_qary_vec"
   ]
  },
  {
   "cell_type": "code",
   "execution_count": 2,
   "id": "1c0d6a1c",
   "metadata": {},
   "outputs": [
    {
     "name": "stdout",
     "output_type": "stream",
     "text": [
      "n = 8, N = 4096\n"
     ]
    }
   ],
   "source": [
    "q = 4\n",
    "positions = rna_utils.RNA_POSITIONS\n",
    "\n",
    "# positions += [3,4]\n",
    "# rna_utils.RNA_POSITIONS = positions\n",
    "\n",
    "n = len(positions)\n",
    "\n",
    "print(\"n = {}, N = {}\".format(n, n ** q))"
   ]
  },
  {
   "cell_type": "markdown",
   "id": "b70544f6",
   "metadata": {},
   "source": [
    "### get Lasso coefficients"
   ]
  },
  {
   "cell_type": "code",
   "execution_count": 3,
   "id": "c9068295",
   "metadata": {
    "pycharm": {
     "name": "#%%\n"
    }
   },
   "outputs": [],
   "source": [
    "# emp_beta_lasso = rna_utils.calculate_rna_lasso(save=True)"
   ]
  },
  {
   "cell_type": "code",
   "execution_count": 4,
   "id": "acda9527",
   "metadata": {
    "pycharm": {
     "name": "#%%\n"
    }
   },
   "outputs": [],
   "source": [
    "# Calculate fraction of variance explained by empirical coefficients\n",
    "# bm_fv_lasso = utils.calc_frac_var_explained(emp_beta_lasso)"
   ]
  },
  {
   "cell_type": "markdown",
   "id": "7a52da77",
   "metadata": {},
   "source": [
    "### get GWHT coefficients"
   ]
  },
  {
   "cell_type": "code",
   "execution_count": 5,
   "id": "75302e7f",
   "metadata": {
    "pycharm": {
     "name": "#%%\n"
    }
   },
   "outputs": [
    {
     "name": "stdout",
     "output_type": "stream",
     "text": [
      "Loaded saved beta array for GWHT.\n",
      "[ 0.00000000e+00-0.00000000e+00j  6.50761717e+01-1.80050789e+01j\n",
      " -5.37179726e+01-0.00000000e+00j ...  5.66403419e-02-2.30468586e-02j\n",
      "  4.92188409e-02+4.37500924e-02j -8.98450613e-03-1.13277808e-02j]\n"
     ]
    }
   ],
   "source": [
    "emp_beta_gwht = rna_utils.calculate_rna_gwht(save=True)\n",
    "print(emp_beta_gwht)"
   ]
  },
  {
   "cell_type": "code",
   "execution_count": 6,
   "id": "8e8433fd",
   "metadata": {
    "pycharm": {
     "name": "#%%\n"
    }
   },
   "outputs": [],
   "source": [
    "# Calculate fraction of variance explained by empirical coefficients\n",
    "bm_fv_gwht = utils.calc_frac_var_explained(emp_beta_gwht)"
   ]
  },
  {
   "cell_type": "markdown",
   "id": "b2baee5d",
   "metadata": {},
   "source": [
    "### get GWHT coefficients with QSPRIGHT"
   ]
  },
  {
   "cell_type": "code",
   "execution_count": 7,
   "id": "7526348d",
   "metadata": {
    "pycharm": {
     "name": "#%%\n"
    }
   },
   "outputs": [
    {
     "name": "stdout",
     "output_type": "stream",
     "text": [
      "Loaded saved RNA data.\n",
      "Finding GWHT coefficients with QSPRIGHT\n",
      "b =  4\n",
      "cutoff =  18432.0000000001\n",
      "Found GWHT coefficients\n",
      "sample ratio =  0.4161224365234375\n",
      "found sparsity =  117\n",
      "Ratio of Explained Power =  0.8464116590581541\n"
     ]
    }
   ],
   "source": [
    "gwht, n_used, peeled = rna_utils.calculate_rna_qspright(save=False, report = True, noise_sd = 300)\n",
    "emp_beta_qspright = np.reshape(gwht, -1)\n",
    "print(\"sample ratio = \", n_used / q ** n)\n",
    "print(\"found sparsity = \", np.sum(np.abs(emp_beta_qspright) > 1e-5))\n",
    "print(\"Ratio of Explained Power = \", 1 - np.linalg.norm(emp_beta_gwht - emp_beta_qspright)**2/np.linalg.norm(emp_beta_gwht)**2)"
   ]
  },
  {
   "cell_type": "code",
   "execution_count": 8,
   "id": "731c58b2",
   "metadata": {
    "pycharm": {
     "name": "#%%\n"
    }
   },
   "outputs": [],
   "source": [
    "# Calculate fraction of variance explained by empirical coefficients\n",
    "bm_fv_qspright = utils.calc_frac_var_explained(emp_beta_qspright)"
   ]
  },
  {
   "cell_type": "code",
   "execution_count": 9,
   "id": "d72ff97a",
   "metadata": {
    "pycharm": {
     "name": "#%%\n"
    },
    "scrolled": true
   },
   "outputs": [
    {
     "data": {
      "image/png": "[encoded data removed]",
      "text/plain": [
       "<Figure size 432x288 with 1 Axes>"
      ]
     },
     "metadata": {
      "needs_background": "light"
     },
     "output_type": "display_data"
    }
   ],
   "source": [
    "# plt.plot(bm_fv_lasso[:300], label = \"Fourier\")\n",
    "plt.plot(bm_fv_gwht[:600], label = \"GWHT\")\n",
    "plt.plot(bm_fv_qspright[:600], label = \"QSPRIGHT\")\n",
    "plt.legend()\n",
    "plt.show()"
   ]
  },
  {
   "cell_type": "markdown",
   "id": "29f6aa0d",
   "metadata": {},
   "source": [
    "### compare indices with most energy"
   ]
  },
  {
   "cell_type": "code",
   "execution_count": 10,
   "id": "499d7f61",
   "metadata": {
    "pycharm": {
     "name": "#%%\n"
    }
   },
   "outputs": [
    {
     "name": "stdout",
     "output_type": "stream",
     "text": [
      "20052.771485295565 [0 0 0 0 0 2 0 0]\n",
      "13400.77811370529 [2 0 0 0 0 0 0 2]\n",
      "11352.977657894078 [0 0 0 0 0 0 1 0]\n",
      "11352.977657894078 [0 0 0 0 0 0 3 0]\n",
      "10392.68684201875 [0 0 0 2 0 0 0 0]\n",
      "7624.427416547038 [0 0 2 0 0 0 0 0]\n",
      "7386.3432714296605 [0 0 1 0 0 0 0 0]\n",
      "7386.3432714296605 [0 0 3 0 0 0 0 0]\n",
      "5540.936343287297 [0 0 0 0 0 1 0 0]\n",
      "5540.936343287297 [0 0 0 0 0 3 0 0]\n",
      "5264.666776567108 [1 0 0 0 0 0 0 1]\n",
      "5264.666776567108 [3 0 0 0 0 0 0 3]\n",
      "4697.893286874121 [0 1 0 0 0 0 0 0]\n",
      "4697.893286874121 [0 3 0 0 0 0 0 0]\n",
      "4559.090990385492 [0 0 0 0 0 0 0 1]\n",
      "4559.090990385492 [0 0 0 0 0 0 0 3]\n",
      "3476.537197663604 [2 0 0 0 0 0 0 1]\n",
      "3476.537197663604 [2 0 0 0 0 0 0 3]\n",
      "3379.6055131538865 [2 0 0 0 0 0 0 0]\n",
      "3183.403958498384 [0 1 1 0 0 0 0 0]\n",
      "3183.403958498384 [0 3 3 0 0 0 0 0]\n",
      "2885.6205769418443 [0 0 0 0 0 0 0 2]\n",
      "2160.3612646306547 [0 0 0 0 2 0 0 0]\n",
      "2021.527577272492 [0 0 1 0 0 1 0 0]\n",
      "2021.527577272492 [0 0 3 0 0 3 0 0]\n",
      "1568.3010116008911 [1 0 0 0 0 0 0 2]\n",
      "1568.3010116008911 [3 0 0 0 0 0 0 2]\n",
      "1545.8412536500161 [0 2 2 0 0 0 0 0]\n",
      "1470.3658086524647 [0 1 3 0 0 0 0 0]\n",
      "1470.3658086524647 [0 3 1 0 0 0 0 0]\n"
     ]
    }
   ],
   "source": [
    "beta_power = np.abs(emp_beta_gwht) ** 2\n",
    "for _ in range(30):\n",
    "    ind = beta_power.argmax()\n",
    "    print(beta_power[ind], np.array(dec_to_qary_vec([ind], n = n, q=q))[:, 0])\n",
    "    beta_power[ind] = 0"
   ]
  },
  {
   "cell_type": "code",
   "execution_count": 11,
   "id": "1532bb6f",
   "metadata": {},
   "outputs": [
    {
     "name": "stdout",
     "output_type": "stream",
     "text": [
      "20007.158218526343 [0 0 0 0 0 2 0 0]\n",
      "12306.204839409726 [2 0 0 0 0 0 0 2]\n",
      "11461.856440819602 [0 0 0 0 0 0 1 0]\n",
      "11461.856440819602 [0 0 0 0 0 0 3 0]\n",
      "9972.019154728534 [0 0 0 2 0 0 0 0]\n",
      "7413.975071338685 [0 0 2 0 0 0 0 0]\n",
      "7346.150305999229 [0 0 1 0 0 0 0 0]\n",
      "7346.150305999229 [0 0 3 0 0 0 0 0]\n",
      "5394.224652202354 [0 0 0 0 0 1 0 0]\n",
      "5394.224652202354 [0 0 0 0 0 3 0 0]\n",
      "5107.621247742162 [0 0 0 0 0 0 0 1]\n",
      "5107.621247742162 [0 0 0 0 0 0 0 3]\n",
      "5000.811956163053 [0 3 0 0 0 0 0 0]\n",
      "5000.811956163051 [0 1 0 0 0 0 0 0]\n",
      "4786.702422109961 [1 0 0 0 0 0 0 1]\n",
      "4786.702422109959 [3 0 0 0 0 0 0 3]\n",
      "3534.3519719659816 [2 0 0 0 0 0 0 0]\n",
      "3465.9512711366347 [2 0 0 0 0 0 0 1]\n",
      "3465.9512711366337 [2 0 0 0 0 0 0 3]\n",
      "3308.1920853198785 [0 1 1 0 0 0 0 0]\n",
      "3308.192085319878 [0 3 3 0 0 0 0 0]\n",
      "2893.8826940958497 [0 0 0 0 0 0 0 2]\n",
      "2349.3144907423566 [0 0 0 0 2 0 0 0]\n",
      "2014.396037612738 [0 0 3 0 0 3 0 0]\n",
      "2014.3960376127366 [0 0 1 0 0 1 0 0]\n",
      "1592.4035893675798 [3 0 0 0 0 0 0 2]\n",
      "1592.4035893675793 [1 0 0 0 0 0 0 2]\n",
      "1441.0438575882538 [0 0 2 0 3 2 0 0]\n",
      "1441.0438575882533 [0 0 2 0 1 2 0 0]\n",
      "1401.9200423916682 [0 2 2 0 0 0 2 0]\n"
     ]
    }
   ],
   "source": [
    "beta_power = np.abs(emp_beta_qspright) ** 2\n",
    "for _ in range(30):\n",
    "    ind = beta_power.argmax()\n",
    "    print(beta_power[ind], np.array(dec_to_qary_vec([ind], n = n, q=q))[:, 0])\n",
    "    beta_power[ind] = 0"
   ]
  },
  {
   "cell_type": "code",
   "execution_count": null,
   "id": "f47119fd",
   "metadata": {},
   "outputs": [],
   "source": []
  }
 ],
 "metadata": {
  "kernelspec": {
   "display_name": "Python 3",
   "language": "python",
   "name": "python3"
  },
  "language_info": {
   "codemirror_mode": {
    "name": "ipython",
    "version": 3
   },
   "file_extension": ".py",
   "mimetype": "text/x-python",
   "name": "python",
   "nbconvert_exporter": "python",
   "pygments_lexer": "ipython3",
   "version": "3.6.13"
  }
 },
 "nbformat": 4,
 "nbformat_minor": 5
}
