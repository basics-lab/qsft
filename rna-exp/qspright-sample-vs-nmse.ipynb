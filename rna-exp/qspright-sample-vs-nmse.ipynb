{
 "cells": [
  {
   "cell_type": "code",
   "execution_count": 1,
   "id": "437ff5d6",
   "metadata": {},
   "outputs": [],
   "source": [
    "import numpy as np\n",
    "import matplotlib.pyplot as plt\n",
    "\n",
    "import sys\n",
    "sys.path.append(\"..\")\n",
    "sys.path.append(\"../src\")\n",
    "sys.path.append(\"../src/rna_transform\")\n",
    "sys.path.append(\"../src/qspright\")\n",
    "\n",
    "import rna_transform.utils as utils\n",
    "from rna_transform.rna_helper import RNAHelper\n",
    "from qspright.utils import best_convex_underestimator\n",
    "from rna_transform.rna_tests import run_nmse_tests\n",
    "import itertools"
   ]
  },
  {
   "cell_type": "code",
   "execution_count": 2,
   "id": "8e568c18",
   "metadata": {},
   "outputs": [
    {
     "name": "stdout",
     "output_type": "stream",
     "text": [
      "n = 6, N = 4096\n"
     ]
    }
   ],
   "source": [
    "positions = [5, 10, 15, 20, 25, 30] #, 35, 40, 45, 50]\n",
    "\n",
    "helper = RNAHelper(positions)\n",
    "n = helper.n\n",
    "q = helper.q\n",
    "\n",
    "print(\"n = {}, N = {}\".format(n, q ** n))"
   ]
  },
  {
   "cell_type": "markdown",
   "id": "c36a1477",
   "metadata": {},
   "source": [
    "## Calculate free energies of different RNA sequences\n",
    "\n",
    "Constructs and save the data corresponding to the quasi-empirical RNA fitness function of the Hammerhead ribozyme HH9."
   ]
  },
  {
   "cell_type": "code",
   "execution_count": 9,
   "id": "865e225c",
   "metadata": {
    "scrolled": false
   },
   "outputs": [
    {
     "name": "stdout",
     "output_type": "stream",
     "text": [
      "Calculating free energies...\n"
     ]
    },
    {
     "name": "stderr",
     "output_type": "stream",
     "text": [
      "100%|██████████| 4096/4096 [00:01<00:00, 3285.18it/s]\n"
     ]
    }
   ],
   "source": [
    "helper.calculate_rna_data(parallel=True)"
   ]
  },
  {
   "cell_type": "markdown",
   "id": "0b515345",
   "metadata": {},
   "source": [
    "### Calculate true values of the GWHT coefficients\n",
    "\n",
    "Calculates the GWHT transform of the RNA free energy values using vanilla FFT."
   ]
  },
  {
   "cell_type": "code",
   "execution_count": 10,
   "id": "c03ce6f8",
   "metadata": {
    "pycharm": {
     "name": "#%%\n"
    }
   },
   "outputs": [
    {
     "name": "stdout",
     "output_type": "stream",
     "text": [
      "Found GWHT coefficients\n"
     ]
    }
   ],
   "source": [
    "emp_beta_gwht = helper.compute_rna_model(method=\"gwht\", save=False)"
   ]
  },
  {
   "cell_type": "code",
   "execution_count": 11,
   "id": "8b0964f8",
   "metadata": {
    "pycharm": {
     "name": "#%%\n"
    }
   },
   "outputs": [],
   "source": [
    "# Calculate fraction of variance explained by empirical coefficients\n",
    "bm_fv_gwht = utils.calc_frac_var_explained(emp_beta_gwht)"
   ]
  },
  {
   "cell_type": "code",
   "execution_count": 12,
   "id": "62c6aade",
   "metadata": {},
   "outputs": [
    {
     "data": {
      "image/png": "[encoded data removed]",
      "text/plain": [
       "<Figure size 432x288 with 1 Axes>"
      ]
     },
     "metadata": {
      "needs_background": "light"
     },
     "output_type": "display_data"
    }
   ],
   "source": [
    "plt.plot(bm_fv_gwht[:1000], label = \"GWHT\")\n",
    "plt.legend()\n",
    "plt.show()"
   ]
  },
  {
   "cell_type": "markdown",
   "id": "ddaf1b95",
   "metadata": {},
   "source": [
    "## Test QSPRIGHT with different parameters\n",
    "\n",
    "Construct a grid of parameters. For each entry, run multiple test rounds. Compute the average for each parameter selection. "
   ]
  },
  {
   "cell_type": "code",
   "execution_count": 13,
   "id": "74219769",
   "metadata": {},
   "outputs": [
    {
     "name": "stderr",
     "output_type": "stream",
     "text": [
      "  0%|          | 0/64 [00:00<?, ?it/s]../src/qspright/inputsignal.py:97: FutureWarning: Using a non-tuple sequence for multidimensional indexing is deprecated; use `arr[tuple(seq)]` instead of `arr[seq]`. In the future this will be interpreted as an array index, `arr[np.array(seq)]`, which will result either in an error or a different result.\n",
      "  return self._signal_t[inds]\n",
      "../src/qspright/inputsignal.py:97: FutureWarning: Using a non-tuple sequence for multidimensional indexing is deprecated; use `arr[tuple(seq)]` instead of `arr[seq]`. In the future this will be interpreted as an array index, `arr[np.array(seq)]`, which will result either in an error or a different result.\n",
      "  return self._signal_t[inds]\n",
      "  0%|          | 0/64 [00:00<?, ?it/s]../src/qspright/inputsignal.py:97: FutureWarning: Using a non-tuple sequence for multidimensional indexing is deprecated; use `arr[tuple(seq)]` instead of `arr[seq]`. In the future this will be interpreted as an array index, `arr[np.array(seq)]`, which will result either in an error or a different result.\n",
      "  return self._signal_t[inds]\n",
      "\n"
     ]
    },
    {
     "ename": "IndexError",
     "evalue": "too many indices for array: array is 6-dimensional, but 28 were indexed",
     "output_type": "error",
     "traceback": [
      "\u001b[0;31m---------------------------------------------------------------------------\u001b[0m",
      "\u001b[0;31mRemoteTraceback\u001b[0m                           Traceback (most recent call last)",
      "\u001b[0;31mRemoteTraceback\u001b[0m: \n\"\"\"\nTraceback (most recent call last):\n  File \"../src/rna_transform/rna_helper.py\", line 171, in _calculate_rna_qspright\n    beta = np.load(\"results/rna_beta_qspright.npy\")\n  File \"/Users/erginbas/opt/anaconda3/envs/generalized-wht/lib/python3.6/site-packages/numpy/lib/npyio.py\", line 416, in load\n    fid = stack.enter_context(open(os_fspath(file), \"rb\"))\nFileNotFoundError: [Errno 2] No such file or directory: 'results/rna_beta_qspright.npy'\n\nDuring handling of the above exception, another exception occurred:\n\nTraceback (most recent call last):\n  File \"/Users/erginbas/opt/anaconda3/envs/generalized-wht/lib/python3.6/multiprocessing/pool.py\", line 119, in worker\n    result = (True, func(*args, **kwds))\n  File \"../src/rna_transform/rna_tests.py\", line 24, in _nmse_test\n    gwht, (n_used, n_used_unique, used_unique), peeled = helper_obj.compute_rna_model(method=\"qspright\", **model_kwargs)\n  File \"../src/rna_transform/rna_helper.py\", line 100, in compute_rna_model\n    return self._calculate_rna_qspright(**kwargs)\n  File \"../src/rna_transform/rna_helper.py\", line 199, in _calculate_rna_qspright\n    out = spright.transform(signal, verbose=False, report=report)\n  File \"../src/qspright/qspright_nso.py\", line 98, in transform\n    U, used_i = compute_delayed_gwht(signal, M, D, q)\n  File \"../src/qspright/query.py\", line 155, in compute_delayed_gwht\n    samples_to_transform = signal.get_time_domain(base_inds)\n  File \"../src/qspright/inputsignal.py\", line 97, in get_time_domain\n    return self._signal_t[inds]\nIndexError: too many indices for array: array is 6-dimensional, but 28 were indexed\n\"\"\"",
      "\nThe above exception was the direct cause of the following exception:\n",
      "\u001b[0;31mIndexError\u001b[0m                                Traceback (most recent call last)",
      "\u001b[0;32m<ipython-input-13-5795ff06756e>\u001b[0m in \u001b[0;36m<module>\u001b[0;34m\u001b[0m\n\u001b[1;32m      4\u001b[0m \u001b[0mb_list\u001b[0m \u001b[0;34m=\u001b[0m \u001b[0;34m[\u001b[0m\u001b[0;36m4\u001b[0m\u001b[0;34m,\u001b[0m \u001b[0;36m5\u001b[0m\u001b[0;34m,\u001b[0m \u001b[0;36m6\u001b[0m\u001b[0;34m,\u001b[0m \u001b[0;36m7\u001b[0m\u001b[0;34m]\u001b[0m\u001b[0;34m\u001b[0m\u001b[0;34m\u001b[0m\u001b[0m\n\u001b[1;32m      5\u001b[0m \u001b[0;34m\u001b[0m\u001b[0m\n\u001b[0;32m----> 6\u001b[0;31m \u001b[0mresult\u001b[0m \u001b[0;34m=\u001b[0m \u001b[0mrun_nmse_tests\u001b[0m\u001b[0;34m(\u001b[0m\u001b[0mhelper\u001b[0m\u001b[0;34m,\u001b[0m \u001b[0miters\u001b[0m\u001b[0;34m,\u001b[0m \u001b[0mnum_subsample_list\u001b[0m\u001b[0;34m,\u001b[0m \u001b[0mnum_random_delays_list\u001b[0m\u001b[0;34m,\u001b[0m \u001b[0mb_list\u001b[0m\u001b[0;34m,\u001b[0m \u001b[0memp_beta_gwht\u001b[0m\u001b[0;34m)\u001b[0m\u001b[0;34m\u001b[0m\u001b[0;34m\u001b[0m\u001b[0m\n\u001b[0m\u001b[1;32m      7\u001b[0m \u001b[0;34m\u001b[0m\u001b[0m\n\u001b[1;32m      8\u001b[0m \u001b[0msample_ratios\u001b[0m\u001b[0;34m,\u001b[0m \u001b[0munique_sample_ratios\u001b[0m\u001b[0;34m,\u001b[0m \u001b[0mnmses\u001b[0m \u001b[0;34m=\u001b[0m \u001b[0mresult\u001b[0m\u001b[0;34m\u001b[0m\u001b[0;34m\u001b[0m\u001b[0m\n",
      "\u001b[0;32m~/Documents/Research Codes/generalized-wht/src/rna_transform/rna_tests.py\u001b[0m in \u001b[0;36mrun_nmse_tests\u001b[0;34m(helper, iters, num_subsample_list, num_random_delays_list, b_list, ground_truth)\u001b[0m\n\u001b[1;32m     49\u001b[0m     \u001b[0;32mwith\u001b[0m \u001b[0mPool\u001b[0m\u001b[0;34m(\u001b[0m\u001b[0;34m)\u001b[0m \u001b[0;32mas\u001b[0m \u001b[0mpool\u001b[0m\u001b[0;34m:\u001b[0m\u001b[0;34m\u001b[0m\u001b[0;34m\u001b[0m\u001b[0m\n\u001b[1;32m     50\u001b[0m         \u001b[0;31m# run the tests in parallel\u001b[0m\u001b[0;34m\u001b[0m\u001b[0;34m\u001b[0m\u001b[0;34m\u001b[0m\u001b[0m\n\u001b[0;32m---> 51\u001b[0;31m         \u001b[0mpred\u001b[0m \u001b[0;34m=\u001b[0m \u001b[0mlist\u001b[0m\u001b[0;34m(\u001b[0m\u001b[0mtqdm\u001b[0m\u001b[0;34m(\u001b[0m\u001b[0mpool\u001b[0m\u001b[0;34m.\u001b[0m\u001b[0mimap\u001b[0m\u001b[0;34m(\u001b[0m\u001b[0m_nmse_test\u001b[0m\u001b[0;34m,\u001b[0m \u001b[0mrange\u001b[0m\u001b[0;34m(\u001b[0m\u001b[0mexp_count\u001b[0m\u001b[0;34m)\u001b[0m\u001b[0;34m)\u001b[0m\u001b[0;34m,\u001b[0m \u001b[0mtotal\u001b[0m\u001b[0;34m=\u001b[0m\u001b[0mexp_count\u001b[0m\u001b[0;34m)\u001b[0m\u001b[0;34m)\u001b[0m\u001b[0;34m\u001b[0m\u001b[0;34m\u001b[0m\u001b[0m\n\u001b[0m\u001b[1;32m     52\u001b[0m \u001b[0;34m\u001b[0m\u001b[0m\n\u001b[1;32m     53\u001b[0m     test_params_idx_list = list(\n",
      "\u001b[0;32m~/opt/anaconda3/envs/generalized-wht/lib/python3.6/site-packages/tqdm/std.py\u001b[0m in \u001b[0;36m__iter__\u001b[0;34m(self)\u001b[0m\n\u001b[1;32m   1183\u001b[0m \u001b[0;34m\u001b[0m\u001b[0m\n\u001b[1;32m   1184\u001b[0m         \u001b[0;32mtry\u001b[0m\u001b[0;34m:\u001b[0m\u001b[0;34m\u001b[0m\u001b[0;34m\u001b[0m\u001b[0m\n\u001b[0;32m-> 1185\u001b[0;31m             \u001b[0;32mfor\u001b[0m \u001b[0mobj\u001b[0m \u001b[0;32min\u001b[0m \u001b[0miterable\u001b[0m\u001b[0;34m:\u001b[0m\u001b[0;34m\u001b[0m\u001b[0;34m\u001b[0m\u001b[0m\n\u001b[0m\u001b[1;32m   1186\u001b[0m                 \u001b[0;32myield\u001b[0m \u001b[0mobj\u001b[0m\u001b[0;34m\u001b[0m\u001b[0;34m\u001b[0m\u001b[0m\n\u001b[1;32m   1187\u001b[0m                 \u001b[0;31m# Update and possibly print the progressbar.\u001b[0m\u001b[0;34m\u001b[0m\u001b[0;34m\u001b[0m\u001b[0;34m\u001b[0m\u001b[0m\n",
      "\u001b[0;32m~/opt/anaconda3/envs/generalized-wht/lib/python3.6/multiprocessing/pool.py\u001b[0m in \u001b[0;36mnext\u001b[0;34m(self, timeout)\u001b[0m\n\u001b[1;32m    733\u001b[0m         \u001b[0;32mif\u001b[0m \u001b[0msuccess\u001b[0m\u001b[0;34m:\u001b[0m\u001b[0;34m\u001b[0m\u001b[0;34m\u001b[0m\u001b[0m\n\u001b[1;32m    734\u001b[0m             \u001b[0;32mreturn\u001b[0m \u001b[0mvalue\u001b[0m\u001b[0;34m\u001b[0m\u001b[0;34m\u001b[0m\u001b[0m\n\u001b[0;32m--> 735\u001b[0;31m         \u001b[0;32mraise\u001b[0m \u001b[0mvalue\u001b[0m\u001b[0;34m\u001b[0m\u001b[0;34m\u001b[0m\u001b[0m\n\u001b[0m\u001b[1;32m    736\u001b[0m \u001b[0;34m\u001b[0m\u001b[0m\n\u001b[1;32m    737\u001b[0m     \u001b[0m__next__\u001b[0m \u001b[0;34m=\u001b[0m \u001b[0mnext\u001b[0m                    \u001b[0;31m# XXX\u001b[0m\u001b[0;34m\u001b[0m\u001b[0;34m\u001b[0m\u001b[0m\n",
      "\u001b[0;31mIndexError\u001b[0m: too many indices for array: array is 6-dimensional, but 28 were indexed"
     ]
    }
   ],
   "source": [
    "iters = 1\n",
    "num_subsample_list = [4, 5, 6, 7]\n",
    "num_random_delays_list = [4, 6, 8, 10]\n",
    "b_list = [4, 5, 6, 7]\n",
    "\n",
    "result = run_nmse_tests(helper, iters, num_subsample_list, num_random_delays_list, b_list, emp_beta_gwht)\n",
    "    \n",
    "sample_ratios, unique_sample_ratios, nmses = result"
   ]
  },
  {
   "cell_type": "code",
   "execution_count": null,
   "id": "f2c3ea22",
   "metadata": {},
   "outputs": [],
   "source": [
    "all_points = np.zeros(shape=[0,2])\n",
    "\n",
    "for i, b in enumerate(b_list):\n",
    "    s_values = np.mean(unique_sample_ratios[:, :, i, :], axis=-1).flatten()\n",
    "    mse_values =  np.mean(nmses[:, :, i, :], axis=-1).flatten()\n",
    "    s_std = np.std(unique_sample_ratios[:, :, i, :], axis=-1).flatten()\n",
    "    mse_std =  np.std(nmses[:, :, i, :], axis=-1).flatten()\n",
    "\n",
    "    plt.errorbar(s_values, mse_values, xerr= s_std, yerr= mse_std, label = \"b = {}\".format(b), fmt=\"o\")\n",
    "        \n",
    "    all_points = np.concatenate((all_points, np.array([s_values, mse_values]).T), axis = 0)\n",
    "\n",
    "bcue = best_convex_underestimator(all_points)\n",
    "plt.plot(bcue[:,0], bcue[:,1], 'r--', lw=1.5, label=\"Best Cvx Underest.\")\n",
    "\n",
    "plt.xlabel('Unique Sample Ratio')\n",
    "plt.ylabel('NMSE')\n",
    "plt.legend()\n",
    "plt.grid()\n",
    "plt.savefig('figs/nmse-vs-unique-sample-ratio.png')\n",
    "plt.show()"
   ]
  },
  {
   "cell_type": "code",
   "execution_count": null,
   "id": "bbf9c663",
   "metadata": {},
   "outputs": [],
   "source": [
    "all_points = np.zeros(shape=[0,2])\n",
    "\n",
    "for i, b in enumerate(b_list):\n",
    "    s_values = np.mean(sample_ratios[:, :, i, :], axis=-1).flatten()\n",
    "    mse_values =  np.mean(nmses[:, :, i, :], axis=-1).flatten()\n",
    "    s_std = np.std(sample_ratios[:, :, i, :], axis=-1).flatten()\n",
    "    mse_std =  np.std(nmses[:, :, i, :], axis=-1).flatten()\n",
    "\n",
    "    plt.errorbar(s_values, mse_values, xerr= s_std, yerr= mse_std, label = \"b = {}\".format(b), fmt=\"o\")\n",
    "\n",
    "    all_points = np.concatenate((all_points, np.array([s_values, mse_values]).T), axis = 0)\n",
    "\n",
    "bcue = best_convex_underestimator(all_points)\n",
    "plt.plot(bcue[:,0], bcue[:,1], 'r--', lw=1.5, label=\"Best Cvx Underest.\")\n",
    "\n",
    "plt.xlabel('Total Sample Ratio')\n",
    "plt.ylabel('NMSE')\n",
    "plt.legend()\n",
    "plt.grid()\n",
    "plt.savefig('figs/nmse-vs-total-sample-ratio.png')\n",
    "plt.show()"
   ]
  },
  {
   "cell_type": "code",
   "execution_count": null,
   "id": "5e2a3cf4",
   "metadata": {},
   "outputs": [],
   "source": []
  }
 ],
 "metadata": {
  "kernelspec": {
   "display_name": "Python 3",
   "language": "python",
   "name": "python3"
  },
  "language_info": {
   "codemirror_mode": {
    "name": "ipython",
    "version": 3
   },
   "file_extension": ".py",
   "mimetype": "text/x-python",
   "name": "python",
   "nbconvert_exporter": "python",
   "pygments_lexer": "ipython3",
   "version": "3.6.13"
  }
 },
 "nbformat": 4,
 "nbformat_minor": 5
}
