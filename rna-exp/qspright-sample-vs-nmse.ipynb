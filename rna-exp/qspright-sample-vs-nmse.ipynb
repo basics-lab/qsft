{
 "cells": [
  {
   "cell_type": "code",
   "execution_count": 1,
   "id": "2f88a122",
   "metadata": {},
   "outputs": [],
   "source": [
    "import numpy as np\n",
    "import matplotlib.pyplot as plt\n",
    "\n",
    "import sys\n",
    "sys.path.append(\"..\")\n",
    "sys.path.append(\"../src\")\n",
    "sys.path.append(\"../src/rna_transform\")\n",
    "sys.path.append(\"../src/qspright\")\n",
    "\n",
    "import rna_transform.utils as utils\n",
    "from rna_transform.rna_helper import RNAHelper\n",
    "from qspright.utils import best_convex_underestimator\n",
    "import itertools\n",
    "\n",
    "# import tqdm and solve a visualisation problem with tqdm\n",
    "from tqdm import tqdm\n",
    "from functools import partial\n",
    "tqdm = partial(tqdm, position=0, leave=True)\n",
    "\n",
    "# set parallelism\n",
    "parallel = True\n",
    "\n",
    "if parallel:\n",
    "    from multiprocessing import Pool"
   ]
  },
  {
   "cell_type": "code",
   "execution_count": 2,
   "id": "a67cde81",
   "metadata": {},
   "outputs": [
    {
     "name": "stdout",
     "output_type": "stream",
     "text": [
      "n = 10, N = 1048576\n"
     ]
    }
   ],
   "source": [
    "positions = [5, 10, 15, 20, 25, 30, 35, 40, 45, 50]\n",
    "\n",
    "helper = RNAHelper(positions)\n",
    "n = helper.n\n",
    "q = helper.q\n",
    "\n",
    "print(\"n = {}, N = {}\".format(n, q ** n))"
   ]
  },
  {
   "cell_type": "markdown",
   "id": "39225d92",
   "metadata": {},
   "source": [
    "## Calculate free energies of different RNA sequences\n",
    "\n",
    "Constructs and save the data corresponding to the quasi-empirical RNA fitness function of the Hammerhead ribozyme HH9."
   ]
  },
  {
   "cell_type": "code",
   "execution_count": 3,
   "id": "13d648e0",
   "metadata": {
    "scrolled": false
   },
   "outputs": [],
   "source": [
    "# helper.calculate_rna_data(parallel=parallel)"
   ]
  },
  {
   "cell_type": "markdown",
   "id": "704af467",
   "metadata": {},
   "source": [
    "### Calculate true values of the GWHT coefficients\n",
    "\n",
    "Calculates the GWHT transform of the RNA free energy values using vanilla FFT."
   ]
  },
  {
   "cell_type": "code",
   "execution_count": 4,
   "id": "85e1e2a3",
   "metadata": {
    "pycharm": {
     "name": "#%%\n"
    }
   },
   "outputs": [
    {
     "name": "stdout",
     "output_type": "stream",
     "text": [
      "Found GWHT coefficients\n"
     ]
    }
   ],
   "source": [
    "emp_beta_gwht = helper.compute_rna_model(method=\"gwht\", save=False)"
   ]
  },
  {
   "cell_type": "code",
   "execution_count": 5,
   "id": "2c732a58",
   "metadata": {
    "pycharm": {
     "name": "#%%\n"
    }
   },
   "outputs": [],
   "source": [
    "# Calculate fraction of variance explained by empirical coefficients\n",
    "bm_fv_gwht = utils.calc_frac_var_explained(emp_beta_gwht)"
   ]
  },
  {
   "cell_type": "code",
   "execution_count": 6,
   "id": "12d28087",
   "metadata": {},
   "outputs": [
    {
     "data": {
      "image/png": "[encoded data removed]",
      "text/plain": [
       "<Figure size 432x288 with 1 Axes>"
      ]
     },
     "metadata": {
      "needs_background": "light"
     },
     "output_type": "display_data"
    }
   ],
   "source": [
    "plt.plot(bm_fv_gwht[:1000], label = \"GWHT\")\n",
    "plt.legend()\n",
    "plt.show()"
   ]
  },
  {
   "cell_type": "markdown",
   "id": "4d57f02b",
   "metadata": {},
   "source": [
    "## Test QSPRIGHT with different parameters\n",
    "\n",
    "Construct a grid of parameters. For each entry, run multiple test rounds. Compute the average for each parameter selection. "
   ]
  },
  {
   "cell_type": "code",
   "execution_count": 7,
   "id": "1bfc9343",
   "metadata": {},
   "outputs": [],
   "source": [
    "iters = 1\n",
    "num_subsample_list = [2, 3, 4, 5]\n",
    "num_random_delays_list = [3, 5, 7, 9]\n",
    "b_list = [4, 5, 6, 7]\n",
    "test_params_list = list(itertools.product(num_subsample_list, num_random_delays_list, b_list))\n",
    "\n",
    "def _gwht_test(i):\n",
    "    param_idx = i % len(test_params_list)\n",
    "    test_params = test_params_list[param_idx]\n",
    "    num_subsample, num_random_delays, b = test_params\n",
    "    \n",
    "    # set model arguments\n",
    "    model_kwargs = {}\n",
    "    model_kwargs[\"save\"] = False\n",
    "    model_kwargs[\"noise_sd\"] = 800 / (q ** n)\n",
    "    model_kwargs[\"report\"] = True\n",
    "    model_kwargs[\"num_subsample\"] = num_subsample\n",
    "    model_kwargs[\"num_random_delays\"] = num_random_delays\n",
    "    model_kwargs[\"b\"] = b\n",
    "    model_kwargs[\"on_demand_comp\"] = not parallel\n",
    "\n",
    "    gwht, (n_used, n_used_unique, used_unique), peeled = helper.compute_rna_model(method = \"qspright\", **model_kwargs)\n",
    "    emp_beta_qspright = np.reshape(gwht, -1)\n",
    "    \n",
    "    # calculate metrics\n",
    "    sample_ratio = n_used / q ** n\n",
    "    unique_sample_ratio = n_used_unique/ q ** n\n",
    "    nmse = np.sum(np.abs(emp_beta_gwht - emp_beta_qspright)**2) / np.sum(np.abs(emp_beta_gwht)**2)\n",
    "    \n",
    "    #print(len(peeled), nmse)\n",
    "    return param_idx, sample_ratio, unique_sample_ratio, nmse"
   ]
  },
  {
   "cell_type": "code",
   "execution_count": 8,
   "id": "6c5575e7",
   "metadata": {},
   "outputs": [
    {
     "name": "stderr",
     "output_type": "stream",
     "text": [
      "100%|██████████| 64/64 [01:19<00:00,  1.24s/it]\n"
     ]
    }
   ],
   "source": [
    "if parallel:\n",
    "    \n",
    "    exp_count = iters * len(test_params_list)\n",
    "\n",
    "    with Pool() as pool:\n",
    "        pred = list(tqdm(pool.imap(_gwht_test, range(exp_count)), total=exp_count))\n",
    "\n",
    "else:\n",
    "    # TODO\n",
    "    raise NotImplementedError(\"non-parallel version is not implemented\")"
   ]
  },
  {
   "cell_type": "code",
   "execution_count": 9,
   "id": "8cbc6716",
   "metadata": {},
   "outputs": [],
   "source": [
    "test_params_idx_list = list(itertools.product(np.arange(len(num_subsample_list)), np.arange(len(num_random_delays_list)), np.arange(len(b_list))))\n",
    "\n",
    "sample_ratios = np.zeros((len(num_subsample_list), len(num_random_delays_list), len(b_list), iters))\n",
    "unique_sample_ratios = np.zeros((len(num_subsample_list), len(num_random_delays_list), len(b_list), iters))\n",
    "nmses = np.zeros((len(num_subsample_list), len(num_random_delays_list), len(b_list), iters))\n",
    "\n",
    "for i, exp_result in enumerate(pred):\n",
    "    iter_idx = i // len(test_params_list)\n",
    "    test_params_idx = i % len(test_params_list)\n",
    "    test_params_idx = test_params_idx_list[test_params_idx]\n",
    "    param_idx, sample_ratio, unique_sample_ratio, nmse = exp_result\n",
    "    idx = test_params_idx + (iter_idx,)\n",
    "    sample_ratios[idx] = sample_ratio\n",
    "    unique_sample_ratios[idx] = unique_sample_ratio\n",
    "    nmses[idx] = nmse"
   ]
  },
  {
   "cell_type": "code",
   "execution_count": 10,
   "id": "894d9b71",
   "metadata": {},
   "outputs": [
    {
     "data": {
      "image/png": "[encoded data removed]",
      "text/plain": [
       "<Figure size 432x288 with 1 Axes>"
      ]
     },
     "metadata": {
      "needs_background": "light"
     },
     "output_type": "display_data"
    }
   ],
   "source": [
    "all_points = np.zeros(shape=[0,2])\n",
    "\n",
    "for i, b in enumerate(b_list):\n",
    "    s_values = np.mean(unique_sample_ratios[:, :, i, :], axis=-1).flatten()\n",
    "    mse_values =  np.mean(nmses[:, :, i, :], axis=-1).flatten()\n",
    "\n",
    "    plt.scatter(s_values, mse_values, label = \"b = {}\".format(b))\n",
    "    \n",
    "    all_points = np.concatenate((all_points, np.array([s_values, mse_values]).T), axis = 0)\n",
    "\n",
    "bcue = best_convex_underestimator(all_points)\n",
    "plt.plot(bcue[:,0], bcue[:,1], 'r--', lw=1, label=\"Best Cvx Underest.\")\n",
    "\n",
    "plt.xlabel('Unique Sample Ratio')\n",
    "plt.ylabel('NMSE')\n",
    "plt.legend()\n",
    "plt.show()"
   ]
  },
  {
   "cell_type": "code",
   "execution_count": 11,
   "id": "16c381e0",
   "metadata": {},
   "outputs": [
    {
     "data": {
      "image/png": "[encoded data removed]",
      "text/plain": [
       "<Figure size 432x288 with 1 Axes>"
      ]
     },
     "metadata": {
      "needs_background": "light"
     },
     "output_type": "display_data"
    }
   ],
   "source": [
    "for i, b in enumerate(b_list):\n",
    "    s_values = np.mean(sample_ratios[:, :, i, :], axis=-1).flatten()\n",
    "    mse_values =  np.mean(nmses[:, :, i, :], axis=-1).flatten()\n",
    "\n",
    "    plt.scatter(s_values, mse_values, label = \"b = {}\".format(b))\n",
    "\n",
    "plt.xlabel('Total Sample Ratio')\n",
    "plt.ylabel('NMSE')\n",
    "plt.legend()\n",
    "plt.show()"
   ]
  },
  {
   "cell_type": "code",
   "execution_count": null,
   "id": "be79eb64",
   "metadata": {},
   "outputs": [],
   "source": []
  }
 ],
 "metadata": {
  "kernelspec": {
   "display_name": "Python 3",
   "language": "python",
   "name": "python3"
  },
  "language_info": {
   "codemirror_mode": {
    "name": "ipython",
    "version": 3
   },
   "file_extension": ".py",
   "mimetype": "text/x-python",
   "name": "python",
   "nbconvert_exporter": "python",
   "pygments_lexer": "ipython3",
   "version": "3.6.13"
  }
 },
 "nbformat": 4,
 "nbformat_minor": 5
}