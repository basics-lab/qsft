{
 "cells": [
  {
   "cell_type": "code",
   "execution_count": 2,
   "id": "43be2226",
   "metadata": {},
   "outputs": [],
   "source": [
    "import numpy as np\n",
    "import matplotlib.pyplot as plt\n",
    "\n",
    "import sys\n",
    "sys.path.append(\"../src\")\n",
    "sys.path.append(\"../src/rna_transform\")\n",
    "sys.path.append(\"../src/qspright\")\n",
    "\n",
    "import rna_transform.utils as utils\n",
    "from rna_transform.rna_helper import RNAHelper\n",
    "import itertools\n",
    "\n",
    "# import tqdm and solve a visualisation problem with tqdm\n",
    "from tqdm import tqdm\n",
    "from functools import partial\n",
    "tqdm = partial(tqdm, position=0, leave=True)\n",
    "\n",
    "# set parallelism\n",
    "parallel = True\n",
    "\n",
    "if parallel:\n",
    "    from multiprocessing import Pool"
   ]
  },
  {
   "cell_type": "code",
   "execution_count": 3,
   "id": "8b7ac6da",
   "metadata": {},
   "outputs": [
    {
     "name": "stdout",
     "output_type": "stream",
     "text": [
      "n = 10, N = 1048576\n"
     ]
    }
   ],
   "source": [
    "positions = [5, 10, 15, 20, 25, 30, 35, 40, 45, 50]\n",
    "\n",
    "helper = RNAHelper(positions)\n",
    "n = helper.n\n",
    "q = helper.q\n",
    "\n",
    "print(\"n = {}, N = {}\".format(n, q ** n))"
   ]
  },
  {
   "cell_type": "markdown",
   "id": "8edcb864",
   "metadata": {},
   "source": [
    "## Calculate free energies of different RNA sequences\n",
    "\n",
    "Constructs and save the data corresponding to the quasi-empirical RNA fitness function of the Hammerhead ribozyme HH9."
   ]
  },
  {
   "cell_type": "code",
   "execution_count": 4,
   "id": "aa52fe39",
   "metadata": {
    "scrolled": false
   },
   "outputs": [],
   "source": [
    "# helper.calculate_rna_data(parallel=parallel)"
   ]
  },
  {
   "cell_type": "markdown",
   "id": "8223bca2",
   "metadata": {},
   "source": [
    "### Calculate true values of the GWHT coefficients\n",
    "\n",
    "Calculates the GWHT transform of the RNA free energy values using vanilla FFT."
   ]
  },
  {
   "cell_type": "code",
   "execution_count": 5,
   "id": "0ed0ad1a",
   "metadata": {
    "pycharm": {
     "name": "#%%\n"
    }
   },
   "outputs": [
    {
     "name": "stdout",
     "output_type": "stream",
     "text": [
      "Found GWHT coefficients\n"
     ]
    }
   ],
   "source": [
    "emp_beta_gwht = helper.calculate_rna_gwht(save=False)"
   ]
  },
  {
   "cell_type": "code",
   "execution_count": 6,
   "id": "7f2b7dde",
   "metadata": {
    "pycharm": {
     "name": "#%%\n"
    }
   },
   "outputs": [],
   "source": [
    "# Calculate fraction of variance explained by empirical coefficients\n",
    "bm_fv_gwht = utils.calc_frac_var_explained(emp_beta_gwht)"
   ]
  },
  {
   "cell_type": "code",
   "execution_count": 7,
   "id": "5d175b68",
   "metadata": {},
   "outputs": [
    {
     "data": {
      "image/png": "[encoded data removed]",
      "text/plain": [
       "<Figure size 432x288 with 1 Axes>"
      ]
     },
     "metadata": {
      "needs_background": "light"
     },
     "output_type": "display_data"
    }
   ],
   "source": [
    "plt.plot(bm_fv_gwht[:1000], label = \"GWHT\")\n",
    "plt.legend()\n",
    "plt.show()"
   ]
  },
  {
   "cell_type": "markdown",
   "id": "3385bce8",
   "metadata": {},
   "source": [
    "## Test QSPRIGHT with different parameters\n",
    "\n",
    "Construct a grid of parameters. For each entry, run multiple test rounds. Compute the average for each parameter selection. "
   ]
  },
  {
   "cell_type": "code",
   "execution_count": 10,
   "id": "e5382b0d",
   "metadata": {},
   "outputs": [],
   "source": [
    "iters = 4\n",
    "num_subsample_list = [2, 3, 4, 5]\n",
    "num_random_delays_list = [3, 5, 7, 9]\n",
    "b_list = [4, 5, 6, 7]\n",
    "test_params_list = list(itertools.product(num_subsample_list, num_random_delays_list, b_list))\n",
    "\n",
    "def _gwht_test(i):\n",
    "    param_idx = i % len(test_params_list)\n",
    "    test_params = test_params_list[param_idx]\n",
    "    num_subsample, num_random_delays, b = test_params\n",
    "    gwht, (n_used, n_used_unique), peeled = helper.calculate_rna_qspright(save=False, noise_sd = 800 / (q ** n), report = True, num_subsample = num_subsample, num_random_delays = num_random_delays, b = b)\n",
    "    emp_beta_qspright = np.reshape(gwht, -1)\n",
    "    sample_ratio = n_used / q ** n\n",
    "    unique_sample_ratio = n_used_unique/ q ** n\n",
    "    nmse = np.sum(np.abs(emp_beta_gwht - emp_beta_qspright)**2) / np.sum(np.abs(emp_beta_gwht)**2)\n",
    "    #print(len(peeled), nmse)\n",
    "    return param_idx, sample_ratio, unique_sample_ratio, nmse"
   ]
  },
  {
   "cell_type": "code",
   "execution_count": 11,
   "id": "df98579c",
   "metadata": {},
   "outputs": [
    {
     "name": "stderr",
     "output_type": "stream",
     "text": [
      "100%|██████████| 256/256 [05:31<00:00,  1.30s/it]\n"
     ]
    }
   ],
   "source": [
    "if parallel:\n",
    "    \n",
    "    exp_count = iters * len(test_params_list)\n",
    "\n",
    "    with Pool() as pool:\n",
    "        pred = list(tqdm(pool.imap(_gwht_test, range(exp_count)), total=exp_count))\n",
    "\n",
    "else:\n",
    "    # TODO\n",
    "    raise NotImplementedError(\"non-parallel version is not implemented\")"
   ]
  },
  {
   "cell_type": "code",
   "execution_count": 12,
   "id": "39061fad",
   "metadata": {},
   "outputs": [],
   "source": [
    "test_params_idx_list = list(itertools.product(np.arange(len(num_subsample_list)), np.arange(len(num_random_delays_list)), np.arange(len(b_list))))\n",
    "\n",
    "sample_ratios = np.zeros((len(num_subsample_list), len(num_random_delays_list), len(b_list), iters))\n",
    "unique_sample_ratios = np.zeros((len(num_subsample_list), len(num_random_delays_list), len(b_list), iters))\n",
    "nmses = np.zeros((len(num_subsample_list), len(num_random_delays_list), len(b_list), iters))\n",
    "\n",
    "for i, exp_result in enumerate(pred):\n",
    "    iter_idx = i // len(test_params_list)\n",
    "    test_params_idx = i % len(test_params_list)\n",
    "    test_params_idx = test_params_idx_list[test_params_idx]\n",
    "    param_idx, sample_ratio, unique_sample_ratio, nmse = exp_result\n",
    "    idx = test_params_idx + (iter_idx,)\n",
    "    sample_ratios[idx] = sample_ratio\n",
    "    unique_sample_ratios[idx] = unique_sample_ratio\n",
    "    nmses[idx] = nmse"
   ]
  },
  {
   "cell_type": "code",
   "execution_count": 13,
   "id": "e1ba6e72",
   "metadata": {},
   "outputs": [
    {
     "data": {
      "image/png": "[encoded data removed]",
      "text/plain": [
       "<Figure size 432x288 with 1 Axes>"
      ]
     },
     "metadata": {
      "needs_background": "light"
     },
     "output_type": "display_data"
    }
   ],
   "source": [
    "for i, b in enumerate(b_list):\n",
    "    s_values = np.mean(unique_sample_ratios[:, :, i, :], axis=-1).flatten()\n",
    "    mse_values =  np.mean(nmses[:, :, i, :], axis=-1).flatten()\n",
    "\n",
    "    plt.scatter(s_values, mse_values, label = \"b = {}\".format(b))\n",
    "\n",
    "plt.xlabel('Unique Sample Ratio')\n",
    "plt.ylabel('NMSE')\n",
    "plt.legend()\n",
    "plt.show()"
   ]
  },
  {
   "cell_type": "code",
   "execution_count": 14,
   "id": "495f66f0",
   "metadata": {},
   "outputs": [
    {
     "data": {
      "image/png": "[encoded data removed]",
      "text/plain": [
       "<Figure size 432x288 with 1 Axes>"
      ]
     },
     "metadata": {
      "needs_background": "light"
     },
     "output_type": "display_data"
    }
   ],
   "source": [
    "for i, b in enumerate(b_list):\n",
    "    s_values = np.mean(sample_ratios[:, :, i, :], axis=-1).flatten()\n",
    "    mse_values =  np.mean(nmses[:, :, i, :], axis=-1).flatten()\n",
    "\n",
    "    plt.scatter(s_values, mse_values, label = \"b = {}\".format(b))\n",
    "\n",
    "plt.xlabel('Total Sample Ratio')\n",
    "plt.ylabel('NMSE')\n",
    "plt.legend()\n",
    "plt.show()"
   ]
  },
  {
   "cell_type": "code",
   "execution_count": null,
   "id": "1777284d",
   "metadata": {},
   "outputs": [],
   "source": []
  }
 ],
 "metadata": {
  "kernelspec": {
   "display_name": "Python 3",
   "language": "python",
   "name": "python3"
  },
  "language_info": {
   "codemirror_mode": {
    "name": "ipython",
    "version": 3
   },
   "file_extension": ".py",
   "mimetype": "text/x-python",
   "name": "python",
   "nbconvert_exporter": "python",
   "pygments_lexer": "ipython3",
   "version": "3.6.13"
  }
 },
 "nbformat": 4,
 "nbformat_minor": 5
}
