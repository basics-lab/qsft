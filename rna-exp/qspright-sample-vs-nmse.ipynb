{
 "cells": [
  {
   "cell_type": "code",
   "execution_count": 1,
   "id": "52fc2fd0",
   "metadata": {},
   "outputs": [],
   "source": [
    "import numpy as np\n",
    "import matplotlib.pyplot as plt\n",
    "\n",
    "import sys\n",
    "sys.path.append(\"..\")\n",
    "sys.path.append(\"../src\")\n",
    "sys.path.append(\"../src/rna_transform\")\n",
    "sys.path.append(\"../src/qspright\")\n",
    "\n",
    "import rna_transform.utils as utils\n",
    "from rna_transform.rna_helper import RNAHelper\n",
    "from qspright.utils import best_convex_underestimator\n",
    "from rna_transform.rna_tests import run_parallel_tests\n",
    "import itertools"
   ]
  },
  {
   "cell_type": "code",
   "execution_count": 2,
   "id": "894433f1",
   "metadata": {},
   "outputs": [
    {
     "name": "stdout",
     "output_type": "stream",
     "text": [
      "n = 10, N = 1048576\n"
     ]
    }
   ],
   "source": [
    "positions = [5, 10, 15, 20, 25, 30, 35, 40, 45, 50]\n",
    "\n",
    "helper = RNAHelper(positions)\n",
    "n = helper.n\n",
    "q = helper.q\n",
    "\n",
    "print(\"n = {}, N = {}\".format(n, q ** n))"
   ]
  },
  {
   "cell_type": "markdown",
   "id": "2bd64b3e",
   "metadata": {},
   "source": [
    "## Calculate free energies of different RNA sequences\n",
    "\n",
    "Constructs and save the data corresponding to the quasi-empirical RNA fitness function of the Hammerhead ribozyme HH9."
   ]
  },
  {
   "cell_type": "code",
   "execution_count": 3,
   "id": "92614496",
   "metadata": {
    "scrolled": false
   },
   "outputs": [],
   "source": [
    "# helper.calculate_rna_data(parallel=True)"
   ]
  },
  {
   "cell_type": "markdown",
   "id": "43a4c22b",
   "metadata": {},
   "source": [
    "### Calculate true values of the GWHT coefficients\n",
    "\n",
    "Calculates the GWHT transform of the RNA free energy values using vanilla FFT."
   ]
  },
  {
   "cell_type": "code",
   "execution_count": 4,
   "id": "fdad87b3",
   "metadata": {
    "pycharm": {
     "name": "#%%\n"
    }
   },
   "outputs": [
    {
     "name": "stdout",
     "output_type": "stream",
     "text": [
      "Found GWHT coefficients\n"
     ]
    }
   ],
   "source": [
    "emp_beta_gwht = helper.compute_rna_model(method=\"gwht\", save=False)"
   ]
  },
  {
   "cell_type": "code",
   "execution_count": 5,
   "id": "32bbc690",
   "metadata": {
    "pycharm": {
     "name": "#%%\n"
    }
   },
   "outputs": [],
   "source": [
    "# Calculate fraction of variance explained by empirical coefficients\n",
    "bm_fv_gwht = utils.calc_frac_var_explained(emp_beta_gwht)"
   ]
  },
  {
   "cell_type": "code",
   "execution_count": 6,
   "id": "3c979451",
   "metadata": {},
   "outputs": [
    {
     "data": {
      "image/png": "[encoded data removed]",
      "text/plain": [
       "<Figure size 432x288 with 1 Axes>"
      ]
     },
     "metadata": {
      "needs_background": "light"
     },
     "output_type": "display_data"
    }
   ],
   "source": [
    "plt.plot(bm_fv_gwht[:1000], label = \"GWHT\")\n",
    "plt.legend()\n",
    "plt.show()"
   ]
  },
  {
   "cell_type": "markdown",
   "id": "d23d61ce",
   "metadata": {},
   "source": [
    "## Test QSPRIGHT with different parameters\n",
    "\n",
    "Construct a grid of parameters. For each entry, run multiple test rounds. Compute the average for each parameter selection. "
   ]
  },
  {
   "cell_type": "code",
   "execution_count": null,
   "id": "a05d58eb",
   "metadata": {},
   "outputs": [
    {
     "name": "stderr",
     "output_type": "stream",
     "text": [
      "  1%|          | 2/360 [00:02<07:19,  1.23s/it]"
     ]
    }
   ],
   "source": [
    "iters = 30\n",
    "num_subsample_list = [4, 5]\n",
    "num_random_delays_list = [5, 7, 9]\n",
    "b_list = [4, 5]\n",
    "\n",
    "# iters = 20\n",
    "# num_subsample_list = [2, 3, 4, 5]\n",
    "# num_random_delays_list = [3, 5, 7, 9]\n",
    "# b_list = [4, 5, 6, 7]\n",
    "\n",
    "result = run_parallel_tests(helper, iters, num_subsample_list, num_random_delays_list, b_list, emp_beta_gwht)\n",
    "    \n",
    "sample_ratios, unique_sample_ratios, nmses = result"
   ]
  },
  {
   "cell_type": "code",
   "execution_count": null,
   "id": "6c2f6bb3",
   "metadata": {},
   "outputs": [],
   "source": [
    "# iters = 30\n",
    "# num_subsample_list = [4, 5]\n",
    "# num_random_delays_list = [5, 7, 9]\n",
    "# b_list = [4, 5]\n",
    "\n",
    "# # iters = 20\n",
    "# # num_subsample_list = [2, 3, 4, 5]\n",
    "# # num_random_delays_list = [3, 5, 7, 9]\n",
    "# # b_list = [4, 5, 6, 7]\n",
    "\n",
    "# test_params_list = list(itertools.product(num_subsample_list, num_random_delays_list, b_list))\n",
    "\n",
    "# def _gwht_test(i):\n",
    "#     param_idx = i % len(test_params_list)\n",
    "#     test_params = test_params_list[param_idx]\n",
    "#     num_subsample, num_random_delays, b = test_params\n",
    "    \n",
    "#     # set model arguments\n",
    "#     model_kwargs = {}\n",
    "#     model_kwargs[\"save\"] = False\n",
    "#     model_kwargs[\"noise_sd\"] = 800 / (q ** n)\n",
    "#     model_kwargs[\"report\"] = True\n",
    "#     model_kwargs[\"num_subsample\"] = num_subsample\n",
    "#     model_kwargs[\"num_random_delays\"] = num_random_delays\n",
    "#     model_kwargs[\"b\"] = b\n",
    "#     model_kwargs[\"on_demand_comp\"] = False\n",
    "\n",
    "#     gwht, (n_used, n_used_unique, used_unique), peeled = helper.compute_rna_model(method = \"qspright\", **model_kwargs)\n",
    "#     emp_beta_qspright = np.reshape(gwht, -1)\n",
    "    \n",
    "#     # calculate metrics\n",
    "#     sample_ratio = n_used / q ** n\n",
    "#     unique_sample_ratio = n_used_unique/ q ** n\n",
    "#     nmse = np.sum(np.abs(emp_beta_gwht - emp_beta_qspright)**2) / np.sum(np.abs(emp_beta_gwht)**2)\n",
    "    \n",
    "#     #print(len(peeled), nmse)\n",
    "#     return param_idx, sample_ratio, unique_sample_ratio, nmse"
   ]
  },
  {
   "cell_type": "code",
   "execution_count": null,
   "id": "d5221e81",
   "metadata": {},
   "outputs": [],
   "source": [
    "# if parallel:\n",
    "    \n",
    "#     exp_count = iters * len(test_params_list)\n",
    "\n",
    "#     with Pool() as pool:\n",
    "#         pred = list(tqdm(pool.imap(_gwht_test, range(exp_count)), total=exp_count))\n",
    "\n",
    "# else:\n",
    "#     # TODO\n",
    "#     raise NotImplementedError(\"non-parallel version is not implemented\")"
   ]
  },
  {
   "cell_type": "code",
   "execution_count": null,
   "id": "11e64e41",
   "metadata": {},
   "outputs": [],
   "source": [
    "# test_params_idx_list = list(itertools.product(np.arange(len(num_subsample_list)), np.arange(len(num_random_delays_list)), np.arange(len(b_list))))\n",
    "\n",
    "# sample_ratios = np.zeros((len(num_subsample_list), len(num_random_delays_list), len(b_list), iters))\n",
    "# unique_sample_ratios = np.zeros((len(num_subsample_list), len(num_random_delays_list), len(b_list), iters))\n",
    "# nmses = np.zeros((len(num_subsample_list), len(num_random_delays_list), len(b_list), iters))\n",
    "\n",
    "# for i, exp_result in enumerate(pred):\n",
    "#     iter_idx = i // len(test_params_list)\n",
    "#     test_params_idx = i % len(test_params_list)\n",
    "#     test_params_idx = test_params_idx_list[test_params_idx]\n",
    "#     param_idx, sample_ratio, unique_sample_ratio, nmse = exp_result\n",
    "#     idx = test_params_idx + (iter_idx,)\n",
    "#     sample_ratios[idx] = sample_ratio\n",
    "#     unique_sample_ratios[idx] = unique_sample_ratio\n",
    "#     nmses[idx] = nmse"
   ]
  },
  {
   "cell_type": "code",
   "execution_count": null,
   "id": "6ea0586d",
   "metadata": {},
   "outputs": [],
   "source": [
    "all_points = np.zeros(shape=[0,2])\n",
    "\n",
    "for i, b in enumerate(b_list):\n",
    "    s_values = np.mean(unique_sample_ratios[:, :, i, :], axis=-1).flatten()\n",
    "    mse_values =  np.mean(nmses[:, :, i, :], axis=-1).flatten()\n",
    "    s_std = np.std(unique_sample_ratios[:, :, i, :], axis=-1).flatten()\n",
    "    mse_std =  np.std(nmses[:, :, i, :], axis=-1).flatten()\n",
    "\n",
    "    plt.errorbar(s_values, mse_values, xerr= s_std, yerr= mse_std, label = \"b = {}\".format(b), fmt=\"o\")\n",
    "    \n",
    "    print(mse_std)\n",
    "    \n",
    "    all_points = np.concatenate((all_points, np.array([s_values, mse_values]).T), axis = 0)\n",
    "\n",
    "bcue = best_convex_underestimator(all_points)\n",
    "plt.plot(bcue[:,0], bcue[:,1], 'r--', lw=1, label=\"Best Cvx Underest.\")\n",
    "\n",
    "plt.xlabel('Unique Sample Ratio')\n",
    "plt.ylabel('NMSE')\n",
    "plt.legend()\n",
    "plt.show()"
   ]
  },
  {
   "cell_type": "code",
   "execution_count": null,
   "id": "b0e6cfa0",
   "metadata": {},
   "outputs": [],
   "source": [
    "for i, b in enumerate(b_list):\n",
    "    s_values = np.mean(sample_ratios[:, :, i, :], axis=-1).flatten()\n",
    "    mse_values =  np.mean(nmses[:, :, i, :], axis=-1).flatten()\n",
    "\n",
    "    plt.scatter(s_values, mse_values, label = \"b = {}\".format(b))\n",
    "\n",
    "plt.xlabel('Total Sample Ratio')\n",
    "plt.ylabel('NMSE')\n",
    "plt.legend()\n",
    "plt.show()"
   ]
  },
  {
   "cell_type": "code",
   "execution_count": null,
   "id": "a52f7d84",
   "metadata": {},
   "outputs": [],
   "source": []
  }
 ],
 "metadata": {
  "kernelspec": {
   "display_name": "Python 3",
   "language": "python",
   "name": "python3"
  },
  "language_info": {
   "codemirror_mode": {
    "name": "ipython",
    "version": 3
   },
   "file_extension": ".py",
   "mimetype": "text/x-python",
   "name": "python",
   "nbconvert_exporter": "python",
   "pygments_lexer": "ipython3",
   "version": "3.6.13"
  }
 },
 "nbformat": 4,
 "nbformat_minor": 5
}
