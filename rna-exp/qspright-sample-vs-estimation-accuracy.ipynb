{
 "cells": [
  {
   "cell_type": "code",
   "execution_count": 1,
   "id": "019f6d40",
   "metadata": {},
   "outputs": [],
   "source": [
    "import numpy as np\n",
    "import matplotlib.pyplot as plt\n",
    "\n",
    "import sys\n",
    "sys.path.append(\"..\")\n",
    "sys.path.append(\"../src\")\n",
    "\n",
    "import rna_transform.utils as utils\n",
    "from rna_transform.rna_helper import RNAHelper\n",
    "from qspright.utils import best_convex_underestimator\n",
    "from rna_transform.rna_tests import run_accuracy_tests\n",
    "import itertools"
   ]
  },
  {
   "cell_type": "code",
   "execution_count": 2,
   "id": "1f93b476",
   "metadata": {},
   "outputs": [
    {
     "name": "stdout",
     "output_type": "stream",
     "text": [
      "{'signal': 'results/rna_subsampled.pickle'}\n",
      "n = 6, N = 4.10e+03\n"
     ]
    }
   ],
   "source": [
    "positions = [5, 8, 10, 12, 15, 20]\n",
    "\n",
    "query_args = {\n",
    "    \"query_method\": \"complex\",\n",
    "    \"delays_method\": \"nso\",\n",
    "    \"num_subsample\": 8,\n",
    "    \"num_random_delays\": 8,\n",
    "    \"b\": 3\n",
    "}\n",
    "\n",
    "helper = RNAHelper(positions, subsampling = True, query_args = query_args)\n",
    "n = helper.n\n",
    "q = helper.q\n",
    "\n",
    "print(\"n = {}, N = {:.2e}\".format(n, q ** n))"
   ]
  },
  {
   "cell_type": "markdown",
   "id": "ae605d9d",
   "metadata": {},
   "source": [
    "## Test QSPRIGHT with different parameters\n",
    "\n",
    "Construct a grid of parameters. For each entry, run multiple test rounds. Compute the average for each parameter selection. "
   ]
  },
  {
   "cell_type": "code",
   "execution_count": 8,
   "id": "da9fe0da",
   "metadata": {},
   "outputs": [
    {
     "name": "stderr",
     "output_type": "stream",
     "text": [
      " 75%|███████▌  | 3/4 [00:00<00:00, 19.78it/s]"
     ]
    },
    {
     "name": "stdout",
     "output_type": "stream",
     "text": [
      "2 21\n",
      "2 56\n",
      "6 21\n"
     ]
    },
    {
     "name": "stderr",
     "output_type": "stream",
     "text": [
      "\r",
      "100%|██████████| 4/4 [00:00<00:00, 14.37it/s]"
     ]
    },
    {
     "name": "stdout",
     "output_type": "stream",
     "text": [
      "6 56\n"
     ]
    },
    {
     "name": "stderr",
     "output_type": "stream",
     "text": [
      "\n"
     ]
    }
   ],
   "source": [
    "# iters = 1\n",
    "# num_subsample_list = [4, 5, 6, 7]\n",
    "# num_random_delays_list = [4, 6, 8, 10]\n",
    "# b_list = [4, 5, 6, 7]\n",
    "\n",
    "iters = 1\n",
    "num_subsample_list = [2, 6]\n",
    "num_random_delays_list = [3, 8]\n",
    "b_list = [3]\n",
    "\n",
    "result = run_accuracy_tests(helper, iters, num_subsample_list, num_random_delays_list, b_list)\n",
    "    \n",
    "sample_ratios, unique_sample_ratios, accs = result"
   ]
  },
  {
   "cell_type": "code",
   "execution_count": 9,
   "id": "5b820cb0",
   "metadata": {},
   "outputs": [
    {
     "ename": "QhullError",
     "evalue": "QH6013 qhull input error: input is less than 2-dimensional since all points have the same x coordinate 0.1094\n\nWhile executing:  | qhull i Qt\nOptions selected for Qhull 2019.1.r 2019/06/21:\n  run-id 882426688  incidence  Qtriangulate  _pre-merge  _zero-centrum\n  _max-width 0.00053  Error-roundoff 3.9e-16  _one-merge 2e-15\n  _near-inside 9.8e-15  Visible-distance 7.8e-16  U-max-coplanar 7.8e-16\n  Width-outside 1.6e-15  _wide-facet 4.7e-15  _maxoutside 2.3e-15\n",
     "output_type": "error",
     "traceback": [
      "\u001b[0;31m---------------------------------------------------------------------------\u001b[0m",
      "\u001b[0;31mQhullError\u001b[0m                                Traceback (most recent call last)",
      "\u001b[0;32m<ipython-input-9-95151fed7ec3>\u001b[0m in \u001b[0;36m<module>\u001b[0;34m\u001b[0m\n\u001b[1;32m     12\u001b[0m \u001b[0;34m\u001b[0m\u001b[0m\n\u001b[1;32m     13\u001b[0m \u001b[0;32mif\u001b[0m \u001b[0mlen\u001b[0m\u001b[0;34m(\u001b[0m\u001b[0mall_points\u001b[0m\u001b[0;34m)\u001b[0m \u001b[0;34m>\u001b[0m \u001b[0;36m3\u001b[0m\u001b[0;34m:\u001b[0m\u001b[0;34m\u001b[0m\u001b[0;34m\u001b[0m\u001b[0m\n\u001b[0;32m---> 14\u001b[0;31m     \u001b[0mbcue\u001b[0m \u001b[0;34m=\u001b[0m \u001b[0mbest_convex_underestimator\u001b[0m\u001b[0;34m(\u001b[0m\u001b[0mall_points\u001b[0m\u001b[0;34m)\u001b[0m\u001b[0;34m\u001b[0m\u001b[0;34m\u001b[0m\u001b[0m\n\u001b[0m\u001b[1;32m     15\u001b[0m     \u001b[0mplt\u001b[0m\u001b[0;34m.\u001b[0m\u001b[0mplot\u001b[0m\u001b[0;34m(\u001b[0m\u001b[0mbcue\u001b[0m\u001b[0;34m[\u001b[0m\u001b[0;34m:\u001b[0m\u001b[0;34m,\u001b[0m\u001b[0;36m0\u001b[0m\u001b[0;34m]\u001b[0m\u001b[0;34m,\u001b[0m \u001b[0mbcue\u001b[0m\u001b[0;34m[\u001b[0m\u001b[0;34m:\u001b[0m\u001b[0;34m,\u001b[0m\u001b[0;36m1\u001b[0m\u001b[0;34m]\u001b[0m\u001b[0;34m,\u001b[0m \u001b[0;34m'r--'\u001b[0m\u001b[0;34m,\u001b[0m \u001b[0mlw\u001b[0m\u001b[0;34m=\u001b[0m\u001b[0;36m1.5\u001b[0m\u001b[0;34m,\u001b[0m \u001b[0mlabel\u001b[0m\u001b[0;34m=\u001b[0m\u001b[0;34m\"Best Cvx Underest.\"\u001b[0m\u001b[0;34m)\u001b[0m\u001b[0;34m\u001b[0m\u001b[0;34m\u001b[0m\u001b[0m\n\u001b[1;32m     16\u001b[0m \u001b[0;34m\u001b[0m\u001b[0m\n",
      "\u001b[0;32m~/Documents/Research Codes/generalized-wht/src/qspright/utils.py\u001b[0m in \u001b[0;36mbest_convex_underestimator\u001b[0;34m(points)\u001b[0m\n\u001b[1;32m    201\u001b[0m \u001b[0;34m\u001b[0m\u001b[0m\n\u001b[1;32m    202\u001b[0m \u001b[0;32mdef\u001b[0m \u001b[0mbest_convex_underestimator\u001b[0m\u001b[0;34m(\u001b[0m\u001b[0mpoints\u001b[0m\u001b[0;34m)\u001b[0m\u001b[0;34m:\u001b[0m\u001b[0;34m\u001b[0m\u001b[0;34m\u001b[0m\u001b[0m\n\u001b[0;32m--> 203\u001b[0;31m     \u001b[0mhull\u001b[0m \u001b[0;34m=\u001b[0m \u001b[0mConvexHull\u001b[0m\u001b[0;34m(\u001b[0m\u001b[0mpoints\u001b[0m\u001b[0;34m)\u001b[0m\u001b[0;34m\u001b[0m\u001b[0;34m\u001b[0m\u001b[0m\n\u001b[0m\u001b[1;32m    204\u001b[0m     \u001b[0mvertices\u001b[0m \u001b[0;34m=\u001b[0m \u001b[0mpoints\u001b[0m\u001b[0;34m[\u001b[0m\u001b[0mhull\u001b[0m\u001b[0;34m.\u001b[0m\u001b[0mvertices\u001b[0m\u001b[0;34m]\u001b[0m\u001b[0;34m\u001b[0m\u001b[0;34m\u001b[0m\u001b[0m\n\u001b[1;32m    205\u001b[0m     \u001b[0mfirst_point_idx\u001b[0m \u001b[0;34m=\u001b[0m \u001b[0mnp\u001b[0m\u001b[0;34m.\u001b[0m\u001b[0margmin\u001b[0m\u001b[0;34m(\u001b[0m\u001b[0mvertices\u001b[0m\u001b[0;34m[\u001b[0m\u001b[0;34m:\u001b[0m\u001b[0;34m,\u001b[0m \u001b[0;36m0\u001b[0m\u001b[0;34m]\u001b[0m\u001b[0;34m)\u001b[0m\u001b[0;34m\u001b[0m\u001b[0;34m\u001b[0m\u001b[0m\n",
      "\u001b[0;32mqhull.pyx\u001b[0m in \u001b[0;36mscipy.spatial.qhull.ConvexHull.__init__\u001b[0;34m()\u001b[0m\n",
      "\u001b[0;32mqhull.pyx\u001b[0m in \u001b[0;36mscipy.spatial.qhull._Qhull.__init__\u001b[0;34m()\u001b[0m\n",
      "\u001b[0;31mQhullError\u001b[0m: QH6013 qhull input error: input is less than 2-dimensional since all points have the same x coordinate 0.1094\n\nWhile executing:  | qhull i Qt\nOptions selected for Qhull 2019.1.r 2019/06/21:\n  run-id 882426688  incidence  Qtriangulate  _pre-merge  _zero-centrum\n  _max-width 0.00053  Error-roundoff 3.9e-16  _one-merge 2e-15\n  _near-inside 9.8e-15  Visible-distance 7.8e-16  U-max-coplanar 7.8e-16\n  Width-outside 1.6e-15  _wide-facet 4.7e-15  _maxoutside 2.3e-15\n"
     ]
    },
    {
     "data": {
      "image/png": "[encoded data removed]",
      "text/plain": [
       "<Figure size 432x288 with 1 Axes>"
      ]
     },
     "metadata": {
      "needs_background": "light"
     },
     "output_type": "display_data"
    }
   ],
   "source": [
    "all_points = np.zeros(shape=[0,2])\n",
    "\n",
    "for i, b in enumerate(b_list):\n",
    "    s_values = np.mean(unique_sample_ratios[:, :, i, :], axis=-1).flatten()\n",
    "    mse_values =  np.mean(accs[:, :, i, :], axis=-1).flatten()\n",
    "    s_std = np.std(unique_sample_ratios[:, :, i, :], axis=-1).flatten()\n",
    "    mse_std =  np.std(accs[:, :, i, :], axis=-1).flatten()\n",
    "    \n",
    "    plt.errorbar(s_values, mse_values, xerr= s_std, yerr= mse_std, label = \"b = {}\".format(b), fmt=\"o\")\n",
    "        \n",
    "    all_points = np.concatenate((all_points, np.array([s_values, mse_values]).T), axis = 0)\n",
    "\n",
    "if len(all_points) > 3:\n",
    "    bcue = best_convex_underestimator(all_points)\n",
    "    plt.plot(bcue[:,0], bcue[:,1], 'r--', lw=1.5, label=\"Best Cvx Underest.\")\n",
    "\n",
    "plt.xlabel('Unique Sample Ratio')\n",
    "plt.ylabel('Prediction NMSE')\n",
    "plt.legend()\n",
    "plt.grid()\n",
    "plt.savefig('figs/acc-vs-unique-sample-ratio.png')\n",
    "plt.show()"
   ]
  },
  {
   "cell_type": "code",
   "execution_count": 7,
   "id": "b8f4ecbd",
   "metadata": {},
   "outputs": [
    {
     "ename": "QhullError",
     "evalue": "QH6013 qhull input error: input is less than 2-dimensional since all points have the same x coordinate 0.1094\n\nWhile executing:  | qhull i Qt\nOptions selected for Qhull 2019.1.r 2019/06/21:\n  run-id 878325780  incidence  Qtriangulate  _pre-merge  _zero-centrum\n  _max-width 0.00041  Error-roundoff 3.9e-16  _one-merge 2e-15\n  _near-inside 9.8e-15  Visible-distance 7.8e-16  U-max-coplanar 7.8e-16\n  Width-outside 1.6e-15  _wide-facet 4.7e-15  _maxoutside 2.3e-15\n",
     "output_type": "error",
     "traceback": [
      "\u001b[0;31m---------------------------------------------------------------------------\u001b[0m",
      "\u001b[0;31mQhullError\u001b[0m                                Traceback (most recent call last)",
      "\u001b[0;32m<ipython-input-7-29021dbd6b89>\u001b[0m in \u001b[0;36m<module>\u001b[0;34m\u001b[0m\n\u001b[1;32m     12\u001b[0m \u001b[0;34m\u001b[0m\u001b[0m\n\u001b[1;32m     13\u001b[0m \u001b[0;32mif\u001b[0m \u001b[0mlen\u001b[0m\u001b[0;34m(\u001b[0m\u001b[0mall_points\u001b[0m\u001b[0;34m)\u001b[0m \u001b[0;34m>\u001b[0m \u001b[0;36m3\u001b[0m\u001b[0;34m:\u001b[0m\u001b[0;34m\u001b[0m\u001b[0;34m\u001b[0m\u001b[0m\n\u001b[0;32m---> 14\u001b[0;31m     \u001b[0mbcue\u001b[0m \u001b[0;34m=\u001b[0m \u001b[0mbest_convex_underestimator\u001b[0m\u001b[0;34m(\u001b[0m\u001b[0mall_points\u001b[0m\u001b[0;34m)\u001b[0m\u001b[0;34m\u001b[0m\u001b[0;34m\u001b[0m\u001b[0m\n\u001b[0m\u001b[1;32m     15\u001b[0m     \u001b[0mplt\u001b[0m\u001b[0;34m.\u001b[0m\u001b[0mplot\u001b[0m\u001b[0;34m(\u001b[0m\u001b[0mbcue\u001b[0m\u001b[0;34m[\u001b[0m\u001b[0;34m:\u001b[0m\u001b[0;34m,\u001b[0m\u001b[0;36m0\u001b[0m\u001b[0;34m]\u001b[0m\u001b[0;34m,\u001b[0m \u001b[0mbcue\u001b[0m\u001b[0;34m[\u001b[0m\u001b[0;34m:\u001b[0m\u001b[0;34m,\u001b[0m\u001b[0;36m1\u001b[0m\u001b[0;34m]\u001b[0m\u001b[0;34m,\u001b[0m \u001b[0;34m'r--'\u001b[0m\u001b[0;34m,\u001b[0m \u001b[0mlw\u001b[0m\u001b[0;34m=\u001b[0m\u001b[0;36m1.5\u001b[0m\u001b[0;34m,\u001b[0m \u001b[0mlabel\u001b[0m\u001b[0;34m=\u001b[0m\u001b[0;34m\"Best Cvx Underest.\"\u001b[0m\u001b[0;34m)\u001b[0m\u001b[0;34m\u001b[0m\u001b[0;34m\u001b[0m\u001b[0m\n\u001b[1;32m     16\u001b[0m \u001b[0;34m\u001b[0m\u001b[0m\n",
      "\u001b[0;32m~/Documents/Research Codes/generalized-wht/src/qspright/utils.py\u001b[0m in \u001b[0;36mbest_convex_underestimator\u001b[0;34m(points)\u001b[0m\n\u001b[1;32m    201\u001b[0m \u001b[0;34m\u001b[0m\u001b[0m\n\u001b[1;32m    202\u001b[0m \u001b[0;32mdef\u001b[0m \u001b[0mbest_convex_underestimator\u001b[0m\u001b[0;34m(\u001b[0m\u001b[0mpoints\u001b[0m\u001b[0;34m)\u001b[0m\u001b[0;34m:\u001b[0m\u001b[0;34m\u001b[0m\u001b[0;34m\u001b[0m\u001b[0m\n\u001b[0;32m--> 203\u001b[0;31m     \u001b[0mhull\u001b[0m \u001b[0;34m=\u001b[0m \u001b[0mConvexHull\u001b[0m\u001b[0;34m(\u001b[0m\u001b[0mpoints\u001b[0m\u001b[0;34m)\u001b[0m\u001b[0;34m\u001b[0m\u001b[0;34m\u001b[0m\u001b[0m\n\u001b[0m\u001b[1;32m    204\u001b[0m     \u001b[0mvertices\u001b[0m \u001b[0;34m=\u001b[0m \u001b[0mpoints\u001b[0m\u001b[0;34m[\u001b[0m\u001b[0mhull\u001b[0m\u001b[0;34m.\u001b[0m\u001b[0mvertices\u001b[0m\u001b[0;34m]\u001b[0m\u001b[0;34m\u001b[0m\u001b[0;34m\u001b[0m\u001b[0m\n\u001b[1;32m    205\u001b[0m     \u001b[0mfirst_point_idx\u001b[0m \u001b[0;34m=\u001b[0m \u001b[0mnp\u001b[0m\u001b[0;34m.\u001b[0m\u001b[0margmin\u001b[0m\u001b[0;34m(\u001b[0m\u001b[0mvertices\u001b[0m\u001b[0;34m[\u001b[0m\u001b[0;34m:\u001b[0m\u001b[0;34m,\u001b[0m \u001b[0;36m0\u001b[0m\u001b[0;34m]\u001b[0m\u001b[0;34m)\u001b[0m\u001b[0;34m\u001b[0m\u001b[0;34m\u001b[0m\u001b[0m\n",
      "\u001b[0;32mqhull.pyx\u001b[0m in \u001b[0;36mscipy.spatial.qhull.ConvexHull.__init__\u001b[0;34m()\u001b[0m\n",
      "\u001b[0;32mqhull.pyx\u001b[0m in \u001b[0;36mscipy.spatial.qhull._Qhull.__init__\u001b[0;34m()\u001b[0m\n",
      "\u001b[0;31mQhullError\u001b[0m: QH6013 qhull input error: input is less than 2-dimensional since all points have the same x coordinate 0.1094\n\nWhile executing:  | qhull i Qt\nOptions selected for Qhull 2019.1.r 2019/06/21:\n  run-id 878325780  incidence  Qtriangulate  _pre-merge  _zero-centrum\n  _max-width 0.00041  Error-roundoff 3.9e-16  _one-merge 2e-15\n  _near-inside 9.8e-15  Visible-distance 7.8e-16  U-max-coplanar 7.8e-16\n  Width-outside 1.6e-15  _wide-facet 4.7e-15  _maxoutside 2.3e-15\n"
     ]
    },
    {
     "data": {
      "image/png": "[encoded data removed]",
      "text/plain": [
       "<Figure size 432x288 with 1 Axes>"
      ]
     },
     "metadata": {
      "needs_background": "light"
     },
     "output_type": "display_data"
    }
   ],
   "source": [
    "all_points = np.zeros(shape=[0,2])\n",
    "\n",
    "for i, b in enumerate(b_list):\n",
    "    s_values = np.mean(sample_ratios[:, :, i, :], axis=-1).flatten()\n",
    "    mse_values =  np.mean(accs[:, :, i, :], axis=-1).flatten()\n",
    "    s_std = np.std(sample_ratios[:, :, i, :], axis=-1).flatten()\n",
    "    mse_std =  np.std(accs[:, :, i, :], axis=-1).flatten()\n",
    "\n",
    "    plt.errorbar(s_values, mse_values, xerr= s_std, yerr= mse_std, label = \"b = {}\".format(b), fmt=\"o\")\n",
    "\n",
    "    all_points = np.concatenate((all_points, np.array([s_values, mse_values]).T), axis = 0)\n",
    "\n",
    "if len(all_points) > 3:\n",
    "    bcue = best_convex_underestimator(all_points)\n",
    "    plt.plot(bcue[:,0], bcue[:,1], 'r--', lw=1.5, label=\"Best Cvx Underest.\")\n",
    "\n",
    "plt.xlabel('Total Sample Ratio')\n",
    "plt.ylabel('Prediction NMSE')\n",
    "plt.legend()\n",
    "plt.grid()\n",
    "plt.savefig('figs/acc-vs-total-sample-ratio.png')\n",
    "plt.show()"
   ]
  },
  {
   "cell_type": "code",
   "execution_count": null,
   "id": "e97a9f98",
   "metadata": {},
   "outputs": [],
   "source": []
  }
 ],
 "metadata": {
  "kernelspec": {
   "display_name": "Python 3",
   "language": "python",
   "name": "python3"
  },
  "language_info": {
   "codemirror_mode": {
    "name": "ipython",
    "version": 3
   },
   "file_extension": ".py",
   "mimetype": "text/x-python",
   "name": "python",
   "nbconvert_exporter": "python",
   "pygments_lexer": "ipython3",
   "version": "3.6.13"
  }
 },
 "nbformat": 4,
 "nbformat_minor": 5
}
