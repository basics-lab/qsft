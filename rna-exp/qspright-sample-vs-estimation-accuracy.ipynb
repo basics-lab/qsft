{
 "cells": [
  {
   "cell_type": "code",
   "execution_count": 1,
   "id": "2caaf939",
   "metadata": {},
   "outputs": [],
   "source": [
    "import numpy as np\n",
    "import matplotlib.pyplot as plt\n",
    "\n",
    "import sys\n",
    "sys.path.append(\"..\")\n",
    "sys.path.append(\"../src\")\n",
    "\n",
    "import rna_transform.utils as utils\n",
    "from rna_transform.rna_helper import RNAHelper\n",
    "from qspright.utils import best_convex_underestimator\n",
    "from rna_transform.rna_tests import run_accuracy_tests\n",
    "import itertools"
   ]
  },
  {
   "cell_type": "code",
   "execution_count": 2,
   "id": "1fedda19",
   "metadata": {},
   "outputs": [
    {
     "name": "stdout",
     "output_type": "stream",
     "text": [
      "n = 14, N = 2.68e+08\n"
     ]
    }
   ],
   "source": [
    "positions = [5, 8, 10, 12, 15, 20, 22, 25, 27, 30, 33, 35, 37, 39]\n",
    "\n",
    "helper = RNAHelper(positions)\n",
    "n = helper.n\n",
    "q = helper.q\n",
    "\n",
    "print(\"n = {}, N = {:.2e}\".format(n, q ** n))"
   ]
  },
  {
   "cell_type": "markdown",
   "id": "4a12f5a0",
   "metadata": {},
   "source": [
    "## Test QSPRIGHT with different parameters\n",
    "\n",
    "Construct a grid of parameters. For each entry, run multiple test rounds. Compute the average for each parameter selection. "
   ]
  },
  {
   "cell_type": "code",
   "execution_count": null,
   "id": "b97ae7c7",
   "metadata": {},
   "outputs": [
    {
     "name": "stderr",
     "output_type": "stream",
     "text": [
      "100%|██████████| 983040/983040 [00:14<00:00, 67745.32it/s]\n",
      "  5%|▌         | 51312/981456 [00:18<05:49, 2659.88it/s]"
     ]
    }
   ],
   "source": [
    "# iters = 1\n",
    "# num_subsample_list = [4, 5, 6, 7]\n",
    "# num_random_delays_list = [4, 6, 8, 10]\n",
    "# b_list = [4, 5, 6, 7]\n",
    "\n",
    "iters = 1\n",
    "num_subsample_list = [4]\n",
    "num_random_delays_list = [4]\n",
    "b_list = [6]\n",
    "\n",
    "result = run_accuracy_tests(helper, iters, num_subsample_list, num_random_delays_list, b_list)\n",
    "    \n",
    "sample_ratios, unique_sample_ratios, accs = result"
   ]
  },
  {
   "cell_type": "code",
   "execution_count": null,
   "id": "54f99916",
   "metadata": {},
   "outputs": [],
   "source": [
    "all_points = np.zeros(shape=[0,2])\n",
    "\n",
    "for i, b in enumerate(b_list):\n",
    "    s_values = np.mean(unique_sample_ratios[:, :, i, :], axis=-1).flatten()\n",
    "    mse_values =  np.mean(accs[:, :, i, :], axis=-1).flatten()\n",
    "    s_std = np.std(unique_sample_ratios[:, :, i, :], axis=-1).flatten()\n",
    "    mse_std =  np.std(accs[:, :, i, :], axis=-1).flatten()\n",
    "\n",
    "    plt.errorbar(s_values, mse_values, xerr= s_std, yerr= mse_std, label = \"b = {}\".format(b), fmt=\"o\")\n",
    "        \n",
    "    all_points = np.concatenate((all_points, np.array([s_values, mse_values]).T), axis = 0)\n",
    "\n",
    "#bcue = best_convex_underestimator(all_points)\n",
    "#plt.plot(bcue[:,0], bcue[:,1], 'r--', lw=1.5, label=\"Best Cvx Underest.\")\n",
    "\n",
    "plt.xlabel('Unique Sample Ratio')\n",
    "plt.ylabel('Prediction NMSE')\n",
    "plt.legend()\n",
    "plt.grid()\n",
    "plt.savefig('figs/acc-vs-unique-sample-ratio.png')\n",
    "plt.show()"
   ]
  },
  {
   "cell_type": "code",
   "execution_count": null,
   "id": "017f2f30",
   "metadata": {},
   "outputs": [],
   "source": [
    "all_points = np.zeros(shape=[0,2])\n",
    "\n",
    "for i, b in enumerate(b_list):\n",
    "    s_values = np.mean(sample_ratios[:, :, i, :], axis=-1).flatten()\n",
    "    mse_values =  np.mean(accs[:, :, i, :], axis=-1).flatten()\n",
    "    s_std = np.std(sample_ratios[:, :, i, :], axis=-1).flatten()\n",
    "    mse_std =  np.std(accs[:, :, i, :], axis=-1).flatten()\n",
    "\n",
    "    plt.errorbar(s_values, mse_values, xerr= s_std, yerr= mse_std, label = \"b = {}\".format(b), fmt=\"o\")\n",
    "\n",
    "    all_points = np.concatenate((all_points, np.array([s_values, mse_values]).T), axis = 0)\n",
    "\n",
    "bcue = best_convex_underestimator(all_points)\n",
    "plt.plot(bcue[:,0], bcue[:,1], 'r--', lw=1.5, label=\"Best Cvx Underest.\")\n",
    "\n",
    "plt.xlabel('Total Sample Ratio')\n",
    "plt.ylabel('Prediction NMSE')\n",
    "plt.legend()\n",
    "plt.grid()\n",
    "plt.savefig('figs/acc-vs-total-sample-ratio.png')\n",
    "plt.show()"
   ]
  },
  {
   "cell_type": "code",
   "execution_count": null,
   "id": "52090638",
   "metadata": {},
   "outputs": [],
   "source": []
  },
  {
   "cell_type": "code",
   "execution_count": null,
   "id": "7062d7a7",
   "metadata": {},
   "outputs": [],
   "source": []
  },
  {
   "cell_type": "code",
   "execution_count": null,
   "id": "c0ef29b0",
   "metadata": {},
   "outputs": [],
   "source": []
  }
 ],
 "metadata": {
  "kernelspec": {
   "display_name": "Python 3",
   "language": "python",
   "name": "python3"
  },
  "language_info": {
   "codemirror_mode": {
    "name": "ipython",
    "version": 3
   },
   "file_extension": ".py",
   "mimetype": "text/x-python",
   "name": "python",
   "nbconvert_exporter": "python",
   "pygments_lexer": "ipython3",
   "version": "3.6.13"
  }
 },
 "nbformat": 4,
 "nbformat_minor": 5
}
